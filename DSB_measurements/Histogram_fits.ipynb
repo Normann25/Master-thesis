{
 "cells": [
  {
   "cell_type": "code",
   "execution_count": null,
   "metadata": {},
   "outputs": [],
   "source": [
    "import numpy as np\n",
    "import matplotlib.pyplot as plt\n",
    "plt.style.use('../Style.mplstyle')\n",
    "import pandas as pd\n",
    "import os\n",
    "import sys\n",
    "import scipy\n",
    "from iminuit import Minuit\n",
    "sys.path.append('..')\n",
    "from read_data_functions import *\n",
    "from plot_functions import *\n",
    "from calculations import *"
   ]
  },
  {
   "cell_type": "code",
   "execution_count": null,
   "metadata": {},
   "outputs": [],
   "source": []
  }
 ],
 "metadata": {
  "language_info": {
   "name": "python"
  }
 },
 "nbformat": 4,
 "nbformat_minor": 2
}
