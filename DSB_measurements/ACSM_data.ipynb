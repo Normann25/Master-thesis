{
 "cells": [
  {
   "cell_type": "code",
   "execution_count": 1,
   "metadata": {},
   "outputs": [],
   "source": [
    "import numpy as np\n",
    "import matplotlib.pyplot as plt\n",
    "plt.style.use('../Style.mplstyle')\n",
    "import pandas as pd\n",
    "import os\n",
    "import sys\n",
    "import scipy\n",
    "import matplotlib.dates as mdates\n",
    "from datetime import datetime\n",
    "from mpl_toolkits.axes_grid1.inset_locator import inset_axes\n",
    "sys.path.append('..')\n",
    "from read_data_functions import *\n",
    "from plot_functions import *\n",
    "from calculations import *"
   ]
  },
  {
   "cell_type": "code",
   "execution_count": 31,
   "metadata": {},
   "outputs": [
    {
     "name": "stdout",
     "output_type": "stream",
     "text": [
      "Failed to read file with separation: ,\n",
      "Failed to read file with separation: ;\n",
      "Failed to read file with separation: ,\n",
      "Failed to read file with separation: ,\n",
      "Failed to read file with separation: ,\n",
      "Failed to read file with separation: ,\n"
     ]
    }
   ],
   "source": [
    "parent_path = '../../../../'\n",
    "path = 'L:/PG-Nanoteknologi/PROJEKTER/2024 Laura og Nan/cph central and nørreport measurements/Station 1/'\n",
    "path_asphalt = 'L:/PG-Nanoteknologi/PROJEKTER/EPA-asfaltprojekt/On-line PAH Projekt KU/ACSM/txt/mass_spec/'\n",
    "path_TinaTin = 'L:/PG-Nanoteknologi/PROJEKTER/2024 Laura og Nan/TinaTin MS'\n",
    "ACSM_keys = ['10-12-2024', '11-12-2024', '12-12-2024', '13-12-2024']\n",
    "MS_keys = ['10-12-2024_full', '11-12-2024_before-peak', '11-12-2024_peak', '11-12-2024_full', '12-12-2024_peak', '12-12-2024_full', '13-12-2024_full']\n",
    "MS_asphalt_keys = ['Vesterbrogade_12062023_MS_TraficBefore', 'Vesterbrogade_12062023_MS_TraficAfter',\n",
    "                   'Vesterbrogade_13062023_MS_TraficBefore', 'Vesterbrogade_13062023_MS_TraficAfter']\n",
    "MS_TinaTin_keys = ['7-3-2022_full', '8-3-2022_full', '9-3-2022_full', '10-3-2022_full', '11-3-2022_full', '12-3-2022_full', '13-3-2022_full', '14-3-2022_full']\n",
    "\n",
    "ACSM = read_csv(path + 'Timeseries/', parent_path, 't_base', None, 1)\n",
    "MS = read_txt(path + 'MS/', parent_path, MS_keys, '\\t', None)\n",
    "MS_asphalt = read_txt(path_asphalt, parent_path, MS_asphalt_keys, '\\t', None)\n",
    "MS_TinaTin = read_txt(path_TinaTin, parent_path, MS_TinaTin_keys, '\\t', None)\n",
    "\n",
    "for key in MS.keys():\n",
    "    MS[key].columns = ['m/z', 'org']\n",
    "\n",
    "for key in MS_asphalt.keys():\n",
    "    MS_asphalt[key].columns = ['m/z', 'org']\n",
    "\n",
    "for key in MS_TinaTin.keys():\n",
    "    MS_TinaTin[key].columns = ['m/z', 'org']\n",
    "\n",
    "titles = ['Tuesday', 'Wednesday', 'Thursday', 'Friday']"
   ]
  },
  {
   "cell_type": "code",
   "execution_count": 39,
   "metadata": {},
   "outputs": [
    {
     "name": "stdout",
     "output_type": "stream",
     "text": [
      "  agg_filter: a filter function, which takes a (m, n, 3) float array and a dpi value, and returns a (m, n, 3) array and two offsets from the bottom left corner of the image\n",
      "  alpha: scalar or None\n",
      "  animated: bool\n",
      "  backgroundcolor: color\n",
      "  bbox: dict with properties for `.patches.FancyBboxPatch`\n",
      "  clip_box: `.Bbox`\n",
      "  clip_on: bool\n",
      "  clip_path: Patch or (Path, Transform) or None\n",
      "  color or c: color\n",
      "  figure: `.Figure`\n",
      "  fontfamily or family: {FONTNAME, 'serif', 'sans-serif', 'cursive', 'fantasy', 'monospace'}\n",
      "  fontproperties or font or font_properties: `.font_manager.FontProperties` or `str` or `pathlib.Path`\n",
      "  fontsize or size: float or {'xx-small', 'x-small', 'small', 'medium', 'large', 'x-large', 'xx-large'}\n",
      "  fontstretch or stretch: {a numeric value in range 0-1000, 'ultra-condensed', 'extra-condensed', 'condensed', 'semi-condensed', 'normal', 'semi-expanded', 'expanded', 'extra-expanded', 'ultra-expanded'}\n",
      "  fontstyle or style: {'normal', 'italic', 'oblique'}\n",
      "  fontvariant or variant: {'normal', 'small-caps'}\n",
      "  fontweight or weight: {a numeric value in range 0-1000, 'ultralight', 'light', 'normal', 'regular', 'book', 'medium', 'roman', 'semibold', 'demibold', 'demi', 'bold', 'heavy', 'extra bold', 'black'}\n",
      "  gid: str\n",
      "  horizontalalignment or ha: {'left', 'center', 'right'}\n",
      "  in_layout: bool\n",
      "  label: object\n",
      "  linespacing: float (multiple of font size)\n",
      "  math_fontfamily: str\n",
      "  mouseover: bool\n",
      "  multialignment or ma: {'left', 'right', 'center'}\n",
      "  parse_math: bool\n",
      "  path_effects: `.AbstractPathEffect`\n",
      "  picker: None or bool or float or callable\n",
      "  position: (float, float)\n",
      "  rasterized: bool\n",
      "  rotation: float or {'vertical', 'horizontal'}\n",
      "  rotation_mode: {None, 'default', 'anchor'}\n",
      "  sketch_params: (scale: float, length: float, randomness: float)\n",
      "  snap: bool or None\n",
      "  text: object\n",
      "  transform: `.Transform`\n",
      "  transform_rotates_text: bool\n",
      "  url: str\n",
      "  usetex: bool or None\n",
      "  verticalalignment or va: {'bottom', 'baseline', 'center', 'center_baseline', 'top'}\n",
      "  visible: bool\n",
      "  wrap: bool\n",
      "  x: float\n",
      "  y: float\n",
      "  zorder: float\n",
      "  agg_filter: a filter function, which takes a (m, n, 3) float array and a dpi value, and returns a (m, n, 3) array and two offsets from the bottom left corner of the image\n",
      "  alpha: scalar or None\n",
      "  animated: bool\n",
      "  backgroundcolor: color\n",
      "  bbox: dict with properties for `.patches.FancyBboxPatch`\n",
      "  clip_box: `.Bbox`\n",
      "  clip_on: bool\n",
      "  clip_path: Patch or (Path, Transform) or None\n",
      "  color or c: color\n",
      "  figure: `.Figure`\n",
      "  fontfamily or family: {FONTNAME, 'serif', 'sans-serif', 'cursive', 'fantasy', 'monospace'}\n",
      "  fontproperties or font or font_properties: `.font_manager.FontProperties` or `str` or `pathlib.Path`\n",
      "  fontsize or size: float or {'xx-small', 'x-small', 'small', 'medium', 'large', 'x-large', 'xx-large'}\n",
      "  fontstretch or stretch: {a numeric value in range 0-1000, 'ultra-condensed', 'extra-condensed', 'condensed', 'semi-condensed', 'normal', 'semi-expanded', 'expanded', 'extra-expanded', 'ultra-expanded'}\n",
      "  fontstyle or style: {'normal', 'italic', 'oblique'}\n",
      "  fontvariant or variant: {'normal', 'small-caps'}\n",
      "  fontweight or weight: {a numeric value in range 0-1000, 'ultralight', 'light', 'normal', 'regular', 'book', 'medium', 'roman', 'semibold', 'demibold', 'demi', 'bold', 'heavy', 'extra bold', 'black'}\n",
      "  gid: str\n",
      "  horizontalalignment or ha: {'left', 'center', 'right'}\n",
      "  in_layout: bool\n",
      "  label: object\n",
      "  linespacing: float (multiple of font size)\n",
      "  math_fontfamily: str\n",
      "  mouseover: bool\n",
      "  multialignment or ma: {'left', 'right', 'center'}\n",
      "  parse_math: bool\n",
      "  path_effects: `.AbstractPathEffect`\n",
      "  picker: None or bool or float or callable\n",
      "  position: (float, float)\n",
      "  rasterized: bool\n",
      "  rotation: float or {'vertical', 'horizontal'}\n",
      "  rotation_mode: {None, 'default', 'anchor'}\n",
      "  sketch_params: (scale: float, length: float, randomness: float)\n",
      "  snap: bool or None\n",
      "  text: object\n",
      "  transform: `.Transform`\n",
      "  transform_rotates_text: bool\n",
      "  url: str\n",
      "  usetex: bool or None\n",
      "  verticalalignment or va: {'bottom', 'baseline', 'center', 'center_baseline', 'top'}\n",
      "  visible: bool\n",
      "  wrap: bool\n",
      "  x: float\n",
      "  y: float\n",
      "  zorder: float\n",
      "  agg_filter: a filter function, which takes a (m, n, 3) float array and a dpi value, and returns a (m, n, 3) array and two offsets from the bottom left corner of the image\n",
      "  alpha: scalar or None\n",
      "  animated: bool\n",
      "  backgroundcolor: color\n",
      "  bbox: dict with properties for `.patches.FancyBboxPatch`\n",
      "  clip_box: `.Bbox`\n",
      "  clip_on: bool\n",
      "  clip_path: Patch or (Path, Transform) or None\n",
      "  color or c: color\n",
      "  figure: `.Figure`\n",
      "  fontfamily or family: {FONTNAME, 'serif', 'sans-serif', 'cursive', 'fantasy', 'monospace'}\n",
      "  fontproperties or font or font_properties: `.font_manager.FontProperties` or `str` or `pathlib.Path`\n",
      "  fontsize or size: float or {'xx-small', 'x-small', 'small', 'medium', 'large', 'x-large', 'xx-large'}\n",
      "  fontstretch or stretch: {a numeric value in range 0-1000, 'ultra-condensed', 'extra-condensed', 'condensed', 'semi-condensed', 'normal', 'semi-expanded', 'expanded', 'extra-expanded', 'ultra-expanded'}\n",
      "  fontstyle or style: {'normal', 'italic', 'oblique'}\n",
      "  fontvariant or variant: {'normal', 'small-caps'}\n",
      "  fontweight or weight: {a numeric value in range 0-1000, 'ultralight', 'light', 'normal', 'regular', 'book', 'medium', 'roman', 'semibold', 'demibold', 'demi', 'bold', 'heavy', 'extra bold', 'black'}\n",
      "  gid: str\n",
      "  horizontalalignment or ha: {'left', 'center', 'right'}\n",
      "  in_layout: bool\n",
      "  label: object\n",
      "  linespacing: float (multiple of font size)\n",
      "  math_fontfamily: str\n",
      "  mouseover: bool\n",
      "  multialignment or ma: {'left', 'right', 'center'}\n",
      "  parse_math: bool\n",
      "  path_effects: `.AbstractPathEffect`\n",
      "  picker: None or bool or float or callable\n",
      "  position: (float, float)\n",
      "  rasterized: bool\n",
      "  rotation: float or {'vertical', 'horizontal'}\n",
      "  rotation_mode: {None, 'default', 'anchor'}\n",
      "  sketch_params: (scale: float, length: float, randomness: float)\n",
      "  snap: bool or None\n",
      "  text: object\n",
      "  transform: `.Transform`\n",
      "  transform_rotates_text: bool\n",
      "  url: str\n",
      "  usetex: bool or None\n",
      "  verticalalignment or va: {'bottom', 'baseline', 'center', 'center_baseline', 'top'}\n",
      "  visible: bool\n",
      "  wrap: bool\n",
      "  x: float\n",
      "  y: float\n",
      "  zorder: float\n",
      "  agg_filter: a filter function, which takes a (m, n, 3) float array and a dpi value, and returns a (m, n, 3) array and two offsets from the bottom left corner of the image\n",
      "  alpha: scalar or None\n",
      "  animated: bool\n",
      "  backgroundcolor: color\n",
      "  bbox: dict with properties for `.patches.FancyBboxPatch`\n",
      "  clip_box: `.Bbox`\n",
      "  clip_on: bool\n",
      "  clip_path: Patch or (Path, Transform) or None\n",
      "  color or c: color\n",
      "  figure: `.Figure`\n",
      "  fontfamily or family: {FONTNAME, 'serif', 'sans-serif', 'cursive', 'fantasy', 'monospace'}\n",
      "  fontproperties or font or font_properties: `.font_manager.FontProperties` or `str` or `pathlib.Path`\n",
      "  fontsize or size: float or {'xx-small', 'x-small', 'small', 'medium', 'large', 'x-large', 'xx-large'}\n",
      "  fontstretch or stretch: {a numeric value in range 0-1000, 'ultra-condensed', 'extra-condensed', 'condensed', 'semi-condensed', 'normal', 'semi-expanded', 'expanded', 'extra-expanded', 'ultra-expanded'}\n",
      "  fontstyle or style: {'normal', 'italic', 'oblique'}\n",
      "  fontvariant or variant: {'normal', 'small-caps'}\n",
      "  fontweight or weight: {a numeric value in range 0-1000, 'ultralight', 'light', 'normal', 'regular', 'book', 'medium', 'roman', 'semibold', 'demibold', 'demi', 'bold', 'heavy', 'extra bold', 'black'}\n",
      "  gid: str\n",
      "  horizontalalignment or ha: {'left', 'center', 'right'}\n",
      "  in_layout: bool\n",
      "  label: object\n",
      "  linespacing: float (multiple of font size)\n",
      "  math_fontfamily: str\n",
      "  mouseover: bool\n",
      "  multialignment or ma: {'left', 'right', 'center'}\n",
      "  parse_math: bool\n",
      "  path_effects: `.AbstractPathEffect`\n",
      "  picker: None or bool or float or callable\n",
      "  position: (float, float)\n",
      "  rasterized: bool\n",
      "  rotation: float or {'vertical', 'horizontal'}\n",
      "  rotation_mode: {None, 'default', 'anchor'}\n",
      "  sketch_params: (scale: float, length: float, randomness: float)\n",
      "  snap: bool or None\n",
      "  text: object\n",
      "  transform: `.Transform`\n",
      "  transform_rotates_text: bool\n",
      "  url: str\n",
      "  usetex: bool or None\n",
      "  verticalalignment or va: {'bottom', 'baseline', 'center', 'center_baseline', 'top'}\n",
      "  visible: bool\n",
      "  wrap: bool\n",
      "  x: float\n",
      "  y: float\n",
      "  zorder: float\n"
     ]
    },
    {
     "name": "stderr",
     "output_type": "stream",
     "text": [
      "C:\\Users\\B363580\\AppData\\Local\\Temp\\ipykernel_22040\\3907913933.py:11: UserWarning: This figure includes Axes that are not compatible with tight_layout, so results might be incorrect.\n",
      "  fig.tight_layout()\n"
     ]
    },
    {
     "ename": "AttributeError",
     "evalue": "'NoneType' object has no attribute '_get_renderer'",
     "output_type": "error",
     "traceback": [
      "\u001b[1;31m---------------------------------------------------------------------------\u001b[0m",
      "\u001b[1;31mAttributeError\u001b[0m                            Traceback (most recent call last)",
      "File \u001b[1;32mc:\\Users\\B363580\\AppData\\Local\\anaconda3\\Lib\\site-packages\\IPython\\core\\formatters.py:340\u001b[0m, in \u001b[0;36mBaseFormatter.__call__\u001b[1;34m(self, obj)\u001b[0m\n\u001b[0;32m    338\u001b[0m     \u001b[38;5;28;01mpass\u001b[39;00m\n\u001b[0;32m    339\u001b[0m \u001b[38;5;28;01melse\u001b[39;00m:\n\u001b[1;32m--> 340\u001b[0m     \u001b[38;5;28;01mreturn\u001b[39;00m printer(obj)\n\u001b[0;32m    341\u001b[0m \u001b[38;5;66;03m# Finally look for special method names\u001b[39;00m\n\u001b[0;32m    342\u001b[0m method \u001b[38;5;241m=\u001b[39m get_real_method(obj, \u001b[38;5;28mself\u001b[39m\u001b[38;5;241m.\u001b[39mprint_method)\n",
      "File \u001b[1;32mc:\\Users\\B363580\\AppData\\Local\\anaconda3\\Lib\\site-packages\\IPython\\core\\pylabtools.py:152\u001b[0m, in \u001b[0;36mprint_figure\u001b[1;34m(fig, fmt, bbox_inches, base64, **kwargs)\u001b[0m\n\u001b[0;32m    149\u001b[0m     \u001b[38;5;28;01mfrom\u001b[39;00m \u001b[38;5;21;01mmatplotlib\u001b[39;00m\u001b[38;5;21;01m.\u001b[39;00m\u001b[38;5;21;01mbackend_bases\u001b[39;00m \u001b[38;5;28;01mimport\u001b[39;00m FigureCanvasBase\n\u001b[0;32m    150\u001b[0m     FigureCanvasBase(fig)\n\u001b[1;32m--> 152\u001b[0m fig\u001b[38;5;241m.\u001b[39mcanvas\u001b[38;5;241m.\u001b[39mprint_figure(bytes_io, \u001b[38;5;241m*\u001b[39m\u001b[38;5;241m*\u001b[39mkw)\n\u001b[0;32m    153\u001b[0m data \u001b[38;5;241m=\u001b[39m bytes_io\u001b[38;5;241m.\u001b[39mgetvalue()\n\u001b[0;32m    154\u001b[0m \u001b[38;5;28;01mif\u001b[39;00m fmt \u001b[38;5;241m==\u001b[39m \u001b[38;5;124m'\u001b[39m\u001b[38;5;124msvg\u001b[39m\u001b[38;5;124m'\u001b[39m:\n",
      "File \u001b[1;32mc:\\Users\\B363580\\AppData\\Local\\anaconda3\\Lib\\site-packages\\matplotlib\\backend_bases.py:2353\u001b[0m, in \u001b[0;36mFigureCanvasBase.print_figure\u001b[1;34m(self, filename, dpi, facecolor, edgecolor, orientation, format, bbox_inches, pad_inches, bbox_extra_artists, backend, **kwargs)\u001b[0m\n\u001b[0;32m   2350\u001b[0m         bbox_inches \u001b[38;5;241m=\u001b[39m bbox_inches\u001b[38;5;241m.\u001b[39mpadded(pad_inches)\n\u001b[0;32m   2352\u001b[0m     \u001b[38;5;66;03m# call adjust_bbox to save only the given area\u001b[39;00m\n\u001b[1;32m-> 2353\u001b[0m     restore_bbox \u001b[38;5;241m=\u001b[39m _tight_bbox\u001b[38;5;241m.\u001b[39madjust_bbox(\n\u001b[0;32m   2354\u001b[0m         \u001b[38;5;28mself\u001b[39m\u001b[38;5;241m.\u001b[39mfigure, bbox_inches, \u001b[38;5;28mself\u001b[39m\u001b[38;5;241m.\u001b[39mfigure\u001b[38;5;241m.\u001b[39mcanvas\u001b[38;5;241m.\u001b[39mfixed_dpi)\n\u001b[0;32m   2356\u001b[0m     _bbox_inches_restore \u001b[38;5;241m=\u001b[39m (bbox_inches, restore_bbox)\n\u001b[0;32m   2357\u001b[0m \u001b[38;5;28;01melse\u001b[39;00m:\n",
      "File \u001b[1;32mc:\\Users\\B363580\\AppData\\Local\\anaconda3\\Lib\\site-packages\\matplotlib\\_tight_bbox.py:28\u001b[0m, in \u001b[0;36madjust_bbox\u001b[1;34m(fig, bbox_inches, fixed_dpi)\u001b[0m\n\u001b[0;32m     26\u001b[0m locator \u001b[38;5;241m=\u001b[39m ax\u001b[38;5;241m.\u001b[39mget_axes_locator()\n\u001b[0;32m     27\u001b[0m \u001b[38;5;28;01mif\u001b[39;00m locator \u001b[38;5;129;01mis\u001b[39;00m \u001b[38;5;129;01mnot\u001b[39;00m \u001b[38;5;28;01mNone\u001b[39;00m:\n\u001b[1;32m---> 28\u001b[0m     ax\u001b[38;5;241m.\u001b[39mapply_aspect(locator(ax, \u001b[38;5;28;01mNone\u001b[39;00m))\n\u001b[0;32m     29\u001b[0m locator_list\u001b[38;5;241m.\u001b[39mappend(locator)\n\u001b[0;32m     30\u001b[0m current_pos \u001b[38;5;241m=\u001b[39m ax\u001b[38;5;241m.\u001b[39mget_position(original\u001b[38;5;241m=\u001b[39m\u001b[38;5;28;01mFalse\u001b[39;00m)\u001b[38;5;241m.\u001b[39mfrozen()\n",
      "File \u001b[1;32mc:\\Users\\B363580\\AppData\\Local\\anaconda3\\Lib\\site-packages\\mpl_toolkits\\axes_grid1\\inset_locator.py:73\u001b[0m, in \u001b[0;36mAnchoredLocatorBase.__call__\u001b[1;34m(self, ax, renderer)\u001b[0m\n\u001b[0;32m     71\u001b[0m \u001b[38;5;28;01mdef\u001b[39;00m \u001b[38;5;21m__call__\u001b[39m(\u001b[38;5;28mself\u001b[39m, ax, renderer):\n\u001b[0;32m     72\u001b[0m     \u001b[38;5;28mself\u001b[39m\u001b[38;5;241m.\u001b[39maxes \u001b[38;5;241m=\u001b[39m ax\n\u001b[1;32m---> 73\u001b[0m     bbox \u001b[38;5;241m=\u001b[39m \u001b[38;5;28mself\u001b[39m\u001b[38;5;241m.\u001b[39mget_window_extent(renderer)\n\u001b[0;32m     74\u001b[0m     px, py \u001b[38;5;241m=\u001b[39m \u001b[38;5;28mself\u001b[39m\u001b[38;5;241m.\u001b[39mget_offset(bbox\u001b[38;5;241m.\u001b[39mwidth, bbox\u001b[38;5;241m.\u001b[39mheight, \u001b[38;5;241m0\u001b[39m, \u001b[38;5;241m0\u001b[39m, renderer)\n\u001b[0;32m     75\u001b[0m     bbox_canvas \u001b[38;5;241m=\u001b[39m Bbox\u001b[38;5;241m.\u001b[39mfrom_bounds(px, py, bbox\u001b[38;5;241m.\u001b[39mwidth, bbox\u001b[38;5;241m.\u001b[39mheight)\n",
      "File \u001b[1;32mc:\\Users\\B363580\\AppData\\Local\\anaconda3\\Lib\\site-packages\\matplotlib\\offsetbox.py:399\u001b[0m, in \u001b[0;36mOffsetBox.get_window_extent\u001b[1;34m(self, renderer)\u001b[0m\n\u001b[0;32m    396\u001b[0m \u001b[38;5;28;01mdef\u001b[39;00m \u001b[38;5;21mget_window_extent\u001b[39m(\u001b[38;5;28mself\u001b[39m, renderer\u001b[38;5;241m=\u001b[39m\u001b[38;5;28;01mNone\u001b[39;00m):\n\u001b[0;32m    397\u001b[0m     \u001b[38;5;66;03m# docstring inherited\u001b[39;00m\n\u001b[0;32m    398\u001b[0m     \u001b[38;5;28;01mif\u001b[39;00m renderer \u001b[38;5;129;01mis\u001b[39;00m \u001b[38;5;28;01mNone\u001b[39;00m:\n\u001b[1;32m--> 399\u001b[0m         renderer \u001b[38;5;241m=\u001b[39m \u001b[38;5;28mself\u001b[39m\u001b[38;5;241m.\u001b[39mfigure\u001b[38;5;241m.\u001b[39m_get_renderer()\n\u001b[0;32m    400\u001b[0m     bbox \u001b[38;5;241m=\u001b[39m \u001b[38;5;28mself\u001b[39m\u001b[38;5;241m.\u001b[39mget_bbox(renderer)\n\u001b[0;32m    401\u001b[0m     \u001b[38;5;28;01mtry\u001b[39;00m:  \u001b[38;5;66;03m# Some subclasses redefine get_offset to take no args.\u001b[39;00m\n",
      "\u001b[1;31mAttributeError\u001b[0m: 'NoneType' object has no attribute '_get_renderer'"
     ]
    },
    {
     "data": {
      "text/plain": [
       "<Figure size 630x800 with 5 Axes>"
      ]
     },
     "metadata": {},
     "output_type": "display_data"
    }
   ],
   "source": [
    "fig, axes = plt.subplots(4, 1, figsize = (6.3, 8))\n",
    "\n",
    "plot_Conc_ACSM(axes, fig, ACSM, ACSM_keys, 'Org', 'Org / $\\mu$g/m$^{3}$')\n",
    "\n",
    "for ax, ttl in zip(axes, titles):\n",
    "    ax.set(ylim = (0, 50), title = ttl)\n",
    "\n",
    "inset_ax = plot_inset(axes[2], 0.4, 2, (0.05, 0, 0.99, 1), '40%', ACSM['12-12-2024']['Time'], ACSM['12-12-2024']['Org'], None, False, True, ['2024-12-12 12:45:00', '2024-12-12 13:45:00'])\n",
    "# inset_ax.set_xticklabels(inset_ax.get_xticklabels(), rotation=-30, ha=\"left\")\n",
    "\n",
    "fig.tight_layout()\n",
    "fig.savefig('ACSM/full_timeseries_org.png', dpi = 600)\n",
    "plt.show()"
   ]
  },
  {
   "cell_type": "code",
   "execution_count": 42,
   "metadata": {},
   "outputs": [
    {
     "name": "stderr",
     "output_type": "stream",
     "text": [
      "C:\\Users\\B363580\\AppData\\Local\\Temp\\ipykernel_22040\\562758044.py:8: UserWarning: This figure includes Axes that are not compatible with tight_layout, so results might be incorrect.\n",
      "  fig.tight_layout()\n"
     ]
    },
    {
     "ename": "AttributeError",
     "evalue": "'NoneType' object has no attribute '_get_renderer'",
     "output_type": "error",
     "traceback": [
      "\u001b[1;31m---------------------------------------------------------------------------\u001b[0m",
      "\u001b[1;31mAttributeError\u001b[0m                            Traceback (most recent call last)",
      "File \u001b[1;32mc:\\Users\\B363580\\AppData\\Local\\anaconda3\\Lib\\site-packages\\IPython\\core\\formatters.py:340\u001b[0m, in \u001b[0;36mBaseFormatter.__call__\u001b[1;34m(self, obj)\u001b[0m\n\u001b[0;32m    338\u001b[0m     \u001b[38;5;28;01mpass\u001b[39;00m\n\u001b[0;32m    339\u001b[0m \u001b[38;5;28;01melse\u001b[39;00m:\n\u001b[1;32m--> 340\u001b[0m     \u001b[38;5;28;01mreturn\u001b[39;00m printer(obj)\n\u001b[0;32m    341\u001b[0m \u001b[38;5;66;03m# Finally look for special method names\u001b[39;00m\n\u001b[0;32m    342\u001b[0m method \u001b[38;5;241m=\u001b[39m get_real_method(obj, \u001b[38;5;28mself\u001b[39m\u001b[38;5;241m.\u001b[39mprint_method)\n",
      "File \u001b[1;32mc:\\Users\\B363580\\AppData\\Local\\anaconda3\\Lib\\site-packages\\IPython\\core\\pylabtools.py:152\u001b[0m, in \u001b[0;36mprint_figure\u001b[1;34m(fig, fmt, bbox_inches, base64, **kwargs)\u001b[0m\n\u001b[0;32m    149\u001b[0m     \u001b[38;5;28;01mfrom\u001b[39;00m \u001b[38;5;21;01mmatplotlib\u001b[39;00m\u001b[38;5;21;01m.\u001b[39;00m\u001b[38;5;21;01mbackend_bases\u001b[39;00m \u001b[38;5;28;01mimport\u001b[39;00m FigureCanvasBase\n\u001b[0;32m    150\u001b[0m     FigureCanvasBase(fig)\n\u001b[1;32m--> 152\u001b[0m fig\u001b[38;5;241m.\u001b[39mcanvas\u001b[38;5;241m.\u001b[39mprint_figure(bytes_io, \u001b[38;5;241m*\u001b[39m\u001b[38;5;241m*\u001b[39mkw)\n\u001b[0;32m    153\u001b[0m data \u001b[38;5;241m=\u001b[39m bytes_io\u001b[38;5;241m.\u001b[39mgetvalue()\n\u001b[0;32m    154\u001b[0m \u001b[38;5;28;01mif\u001b[39;00m fmt \u001b[38;5;241m==\u001b[39m \u001b[38;5;124m'\u001b[39m\u001b[38;5;124msvg\u001b[39m\u001b[38;5;124m'\u001b[39m:\n",
      "File \u001b[1;32mc:\\Users\\B363580\\AppData\\Local\\anaconda3\\Lib\\site-packages\\matplotlib\\backend_bases.py:2353\u001b[0m, in \u001b[0;36mFigureCanvasBase.print_figure\u001b[1;34m(self, filename, dpi, facecolor, edgecolor, orientation, format, bbox_inches, pad_inches, bbox_extra_artists, backend, **kwargs)\u001b[0m\n\u001b[0;32m   2350\u001b[0m         bbox_inches \u001b[38;5;241m=\u001b[39m bbox_inches\u001b[38;5;241m.\u001b[39mpadded(pad_inches)\n\u001b[0;32m   2352\u001b[0m     \u001b[38;5;66;03m# call adjust_bbox to save only the given area\u001b[39;00m\n\u001b[1;32m-> 2353\u001b[0m     restore_bbox \u001b[38;5;241m=\u001b[39m _tight_bbox\u001b[38;5;241m.\u001b[39madjust_bbox(\n\u001b[0;32m   2354\u001b[0m         \u001b[38;5;28mself\u001b[39m\u001b[38;5;241m.\u001b[39mfigure, bbox_inches, \u001b[38;5;28mself\u001b[39m\u001b[38;5;241m.\u001b[39mfigure\u001b[38;5;241m.\u001b[39mcanvas\u001b[38;5;241m.\u001b[39mfixed_dpi)\n\u001b[0;32m   2356\u001b[0m     _bbox_inches_restore \u001b[38;5;241m=\u001b[39m (bbox_inches, restore_bbox)\n\u001b[0;32m   2357\u001b[0m \u001b[38;5;28;01melse\u001b[39;00m:\n",
      "File \u001b[1;32mc:\\Users\\B363580\\AppData\\Local\\anaconda3\\Lib\\site-packages\\matplotlib\\_tight_bbox.py:28\u001b[0m, in \u001b[0;36madjust_bbox\u001b[1;34m(fig, bbox_inches, fixed_dpi)\u001b[0m\n\u001b[0;32m     26\u001b[0m locator \u001b[38;5;241m=\u001b[39m ax\u001b[38;5;241m.\u001b[39mget_axes_locator()\n\u001b[0;32m     27\u001b[0m \u001b[38;5;28;01mif\u001b[39;00m locator \u001b[38;5;129;01mis\u001b[39;00m \u001b[38;5;129;01mnot\u001b[39;00m \u001b[38;5;28;01mNone\u001b[39;00m:\n\u001b[1;32m---> 28\u001b[0m     ax\u001b[38;5;241m.\u001b[39mapply_aspect(locator(ax, \u001b[38;5;28;01mNone\u001b[39;00m))\n\u001b[0;32m     29\u001b[0m locator_list\u001b[38;5;241m.\u001b[39mappend(locator)\n\u001b[0;32m     30\u001b[0m current_pos \u001b[38;5;241m=\u001b[39m ax\u001b[38;5;241m.\u001b[39mget_position(original\u001b[38;5;241m=\u001b[39m\u001b[38;5;28;01mFalse\u001b[39;00m)\u001b[38;5;241m.\u001b[39mfrozen()\n",
      "File \u001b[1;32mc:\\Users\\B363580\\AppData\\Local\\anaconda3\\Lib\\site-packages\\mpl_toolkits\\axes_grid1\\inset_locator.py:73\u001b[0m, in \u001b[0;36mAnchoredLocatorBase.__call__\u001b[1;34m(self, ax, renderer)\u001b[0m\n\u001b[0;32m     71\u001b[0m \u001b[38;5;28;01mdef\u001b[39;00m \u001b[38;5;21m__call__\u001b[39m(\u001b[38;5;28mself\u001b[39m, ax, renderer):\n\u001b[0;32m     72\u001b[0m     \u001b[38;5;28mself\u001b[39m\u001b[38;5;241m.\u001b[39maxes \u001b[38;5;241m=\u001b[39m ax\n\u001b[1;32m---> 73\u001b[0m     bbox \u001b[38;5;241m=\u001b[39m \u001b[38;5;28mself\u001b[39m\u001b[38;5;241m.\u001b[39mget_window_extent(renderer)\n\u001b[0;32m     74\u001b[0m     px, py \u001b[38;5;241m=\u001b[39m \u001b[38;5;28mself\u001b[39m\u001b[38;5;241m.\u001b[39mget_offset(bbox\u001b[38;5;241m.\u001b[39mwidth, bbox\u001b[38;5;241m.\u001b[39mheight, \u001b[38;5;241m0\u001b[39m, \u001b[38;5;241m0\u001b[39m, renderer)\n\u001b[0;32m     75\u001b[0m     bbox_canvas \u001b[38;5;241m=\u001b[39m Bbox\u001b[38;5;241m.\u001b[39mfrom_bounds(px, py, bbox\u001b[38;5;241m.\u001b[39mwidth, bbox\u001b[38;5;241m.\u001b[39mheight)\n",
      "File \u001b[1;32mc:\\Users\\B363580\\AppData\\Local\\anaconda3\\Lib\\site-packages\\matplotlib\\offsetbox.py:399\u001b[0m, in \u001b[0;36mOffsetBox.get_window_extent\u001b[1;34m(self, renderer)\u001b[0m\n\u001b[0;32m    396\u001b[0m \u001b[38;5;28;01mdef\u001b[39;00m \u001b[38;5;21mget_window_extent\u001b[39m(\u001b[38;5;28mself\u001b[39m, renderer\u001b[38;5;241m=\u001b[39m\u001b[38;5;28;01mNone\u001b[39;00m):\n\u001b[0;32m    397\u001b[0m     \u001b[38;5;66;03m# docstring inherited\u001b[39;00m\n\u001b[0;32m    398\u001b[0m     \u001b[38;5;28;01mif\u001b[39;00m renderer \u001b[38;5;129;01mis\u001b[39;00m \u001b[38;5;28;01mNone\u001b[39;00m:\n\u001b[1;32m--> 399\u001b[0m         renderer \u001b[38;5;241m=\u001b[39m \u001b[38;5;28mself\u001b[39m\u001b[38;5;241m.\u001b[39mfigure\u001b[38;5;241m.\u001b[39m_get_renderer()\n\u001b[0;32m    400\u001b[0m     bbox \u001b[38;5;241m=\u001b[39m \u001b[38;5;28mself\u001b[39m\u001b[38;5;241m.\u001b[39mget_bbox(renderer)\n\u001b[0;32m    401\u001b[0m     \u001b[38;5;28;01mtry\u001b[39;00m:  \u001b[38;5;66;03m# Some subclasses redefine get_offset to take no args.\u001b[39;00m\n",
      "\u001b[1;31mAttributeError\u001b[0m: 'NoneType' object has no attribute '_get_renderer'"
     ]
    },
    {
     "data": {
      "text/plain": [
       "<Figure size 630x800 with 8 Axes>"
      ]
     },
     "metadata": {},
     "output_type": "display_data"
    }
   ],
   "source": [
    "fig, axes = plt.subplots(4, 1, figsize = (6.3, 8))\n",
    "\n",
    "plot_MS_wInset(axes, MS, [key for key in MS_keys if 'full' in key], 'org', 0.5, 1, (0, -0.09, 0.99, 1), [0.4, 0.3], ACSM_keys)\n",
    "\n",
    "for ax in axes:\n",
    "    ax.set_title('Copenhagen Central Station - building')\n",
    "\n",
    "fig.tight_layout()\n",
    "fig.savefig('ACSM/full_MS_org.png', dpi = 600)\n",
    "plt.show()"
   ]
  },
  {
   "cell_type": "code",
   "execution_count": 43,
   "metadata": {},
   "outputs": [
    {
     "name": "stderr",
     "output_type": "stream",
     "text": [
      "C:\\Users\\B363580\\AppData\\Local\\Temp\\ipykernel_22040\\3038424447.py:7: UserWarning: This figure includes Axes that are not compatible with tight_layout, so results might be incorrect.\n",
      "  fig.tight_layout()\n"
     ]
    },
    {
     "ename": "AttributeError",
     "evalue": "'NoneType' object has no attribute '_get_renderer'",
     "output_type": "error",
     "traceback": [
      "\u001b[1;31m---------------------------------------------------------------------------\u001b[0m",
      "\u001b[1;31mAttributeError\u001b[0m                            Traceback (most recent call last)",
      "File \u001b[1;32mc:\\Users\\B363580\\AppData\\Local\\anaconda3\\Lib\\site-packages\\IPython\\core\\formatters.py:340\u001b[0m, in \u001b[0;36mBaseFormatter.__call__\u001b[1;34m(self, obj)\u001b[0m\n\u001b[0;32m    338\u001b[0m     \u001b[38;5;28;01mpass\u001b[39;00m\n\u001b[0;32m    339\u001b[0m \u001b[38;5;28;01melse\u001b[39;00m:\n\u001b[1;32m--> 340\u001b[0m     \u001b[38;5;28;01mreturn\u001b[39;00m printer(obj)\n\u001b[0;32m    341\u001b[0m \u001b[38;5;66;03m# Finally look for special method names\u001b[39;00m\n\u001b[0;32m    342\u001b[0m method \u001b[38;5;241m=\u001b[39m get_real_method(obj, \u001b[38;5;28mself\u001b[39m\u001b[38;5;241m.\u001b[39mprint_method)\n",
      "File \u001b[1;32mc:\\Users\\B363580\\AppData\\Local\\anaconda3\\Lib\\site-packages\\IPython\\core\\pylabtools.py:152\u001b[0m, in \u001b[0;36mprint_figure\u001b[1;34m(fig, fmt, bbox_inches, base64, **kwargs)\u001b[0m\n\u001b[0;32m    149\u001b[0m     \u001b[38;5;28;01mfrom\u001b[39;00m \u001b[38;5;21;01mmatplotlib\u001b[39;00m\u001b[38;5;21;01m.\u001b[39;00m\u001b[38;5;21;01mbackend_bases\u001b[39;00m \u001b[38;5;28;01mimport\u001b[39;00m FigureCanvasBase\n\u001b[0;32m    150\u001b[0m     FigureCanvasBase(fig)\n\u001b[1;32m--> 152\u001b[0m fig\u001b[38;5;241m.\u001b[39mcanvas\u001b[38;5;241m.\u001b[39mprint_figure(bytes_io, \u001b[38;5;241m*\u001b[39m\u001b[38;5;241m*\u001b[39mkw)\n\u001b[0;32m    153\u001b[0m data \u001b[38;5;241m=\u001b[39m bytes_io\u001b[38;5;241m.\u001b[39mgetvalue()\n\u001b[0;32m    154\u001b[0m \u001b[38;5;28;01mif\u001b[39;00m fmt \u001b[38;5;241m==\u001b[39m \u001b[38;5;124m'\u001b[39m\u001b[38;5;124msvg\u001b[39m\u001b[38;5;124m'\u001b[39m:\n",
      "File \u001b[1;32mc:\\Users\\B363580\\AppData\\Local\\anaconda3\\Lib\\site-packages\\matplotlib\\backend_bases.py:2353\u001b[0m, in \u001b[0;36mFigureCanvasBase.print_figure\u001b[1;34m(self, filename, dpi, facecolor, edgecolor, orientation, format, bbox_inches, pad_inches, bbox_extra_artists, backend, **kwargs)\u001b[0m\n\u001b[0;32m   2350\u001b[0m         bbox_inches \u001b[38;5;241m=\u001b[39m bbox_inches\u001b[38;5;241m.\u001b[39mpadded(pad_inches)\n\u001b[0;32m   2352\u001b[0m     \u001b[38;5;66;03m# call adjust_bbox to save only the given area\u001b[39;00m\n\u001b[1;32m-> 2353\u001b[0m     restore_bbox \u001b[38;5;241m=\u001b[39m _tight_bbox\u001b[38;5;241m.\u001b[39madjust_bbox(\n\u001b[0;32m   2354\u001b[0m         \u001b[38;5;28mself\u001b[39m\u001b[38;5;241m.\u001b[39mfigure, bbox_inches, \u001b[38;5;28mself\u001b[39m\u001b[38;5;241m.\u001b[39mfigure\u001b[38;5;241m.\u001b[39mcanvas\u001b[38;5;241m.\u001b[39mfixed_dpi)\n\u001b[0;32m   2356\u001b[0m     _bbox_inches_restore \u001b[38;5;241m=\u001b[39m (bbox_inches, restore_bbox)\n\u001b[0;32m   2357\u001b[0m \u001b[38;5;28;01melse\u001b[39;00m:\n",
      "File \u001b[1;32mc:\\Users\\B363580\\AppData\\Local\\anaconda3\\Lib\\site-packages\\matplotlib\\_tight_bbox.py:28\u001b[0m, in \u001b[0;36madjust_bbox\u001b[1;34m(fig, bbox_inches, fixed_dpi)\u001b[0m\n\u001b[0;32m     26\u001b[0m locator \u001b[38;5;241m=\u001b[39m ax\u001b[38;5;241m.\u001b[39mget_axes_locator()\n\u001b[0;32m     27\u001b[0m \u001b[38;5;28;01mif\u001b[39;00m locator \u001b[38;5;129;01mis\u001b[39;00m \u001b[38;5;129;01mnot\u001b[39;00m \u001b[38;5;28;01mNone\u001b[39;00m:\n\u001b[1;32m---> 28\u001b[0m     ax\u001b[38;5;241m.\u001b[39mapply_aspect(locator(ax, \u001b[38;5;28;01mNone\u001b[39;00m))\n\u001b[0;32m     29\u001b[0m locator_list\u001b[38;5;241m.\u001b[39mappend(locator)\n\u001b[0;32m     30\u001b[0m current_pos \u001b[38;5;241m=\u001b[39m ax\u001b[38;5;241m.\u001b[39mget_position(original\u001b[38;5;241m=\u001b[39m\u001b[38;5;28;01mFalse\u001b[39;00m)\u001b[38;5;241m.\u001b[39mfrozen()\n",
      "File \u001b[1;32mc:\\Users\\B363580\\AppData\\Local\\anaconda3\\Lib\\site-packages\\mpl_toolkits\\axes_grid1\\inset_locator.py:73\u001b[0m, in \u001b[0;36mAnchoredLocatorBase.__call__\u001b[1;34m(self, ax, renderer)\u001b[0m\n\u001b[0;32m     71\u001b[0m \u001b[38;5;28;01mdef\u001b[39;00m \u001b[38;5;21m__call__\u001b[39m(\u001b[38;5;28mself\u001b[39m, ax, renderer):\n\u001b[0;32m     72\u001b[0m     \u001b[38;5;28mself\u001b[39m\u001b[38;5;241m.\u001b[39maxes \u001b[38;5;241m=\u001b[39m ax\n\u001b[1;32m---> 73\u001b[0m     bbox \u001b[38;5;241m=\u001b[39m \u001b[38;5;28mself\u001b[39m\u001b[38;5;241m.\u001b[39mget_window_extent(renderer)\n\u001b[0;32m     74\u001b[0m     px, py \u001b[38;5;241m=\u001b[39m \u001b[38;5;28mself\u001b[39m\u001b[38;5;241m.\u001b[39mget_offset(bbox\u001b[38;5;241m.\u001b[39mwidth, bbox\u001b[38;5;241m.\u001b[39mheight, \u001b[38;5;241m0\u001b[39m, \u001b[38;5;241m0\u001b[39m, renderer)\n\u001b[0;32m     75\u001b[0m     bbox_canvas \u001b[38;5;241m=\u001b[39m Bbox\u001b[38;5;241m.\u001b[39mfrom_bounds(px, py, bbox\u001b[38;5;241m.\u001b[39mwidth, bbox\u001b[38;5;241m.\u001b[39mheight)\n",
      "File \u001b[1;32mc:\\Users\\B363580\\AppData\\Local\\anaconda3\\Lib\\site-packages\\matplotlib\\offsetbox.py:399\u001b[0m, in \u001b[0;36mOffsetBox.get_window_extent\u001b[1;34m(self, renderer)\u001b[0m\n\u001b[0;32m    396\u001b[0m \u001b[38;5;28;01mdef\u001b[39;00m \u001b[38;5;21mget_window_extent\u001b[39m(\u001b[38;5;28mself\u001b[39m, renderer\u001b[38;5;241m=\u001b[39m\u001b[38;5;28;01mNone\u001b[39;00m):\n\u001b[0;32m    397\u001b[0m     \u001b[38;5;66;03m# docstring inherited\u001b[39;00m\n\u001b[0;32m    398\u001b[0m     \u001b[38;5;28;01mif\u001b[39;00m renderer \u001b[38;5;129;01mis\u001b[39;00m \u001b[38;5;28;01mNone\u001b[39;00m:\n\u001b[1;32m--> 399\u001b[0m         renderer \u001b[38;5;241m=\u001b[39m \u001b[38;5;28mself\u001b[39m\u001b[38;5;241m.\u001b[39mfigure\u001b[38;5;241m.\u001b[39m_get_renderer()\n\u001b[0;32m    400\u001b[0m     bbox \u001b[38;5;241m=\u001b[39m \u001b[38;5;28mself\u001b[39m\u001b[38;5;241m.\u001b[39mget_bbox(renderer)\n\u001b[0;32m    401\u001b[0m     \u001b[38;5;28;01mtry\u001b[39;00m:  \u001b[38;5;66;03m# Some subclasses redefine get_offset to take no args.\u001b[39;00m\n",
      "\u001b[1;31mAttributeError\u001b[0m: 'NoneType' object has no attribute '_get_renderer'"
     ]
    },
    {
     "data": {
      "text/plain": [
       "<Figure size 630x800 with 8 Axes>"
      ]
     },
     "metadata": {},
     "output_type": "display_data"
    }
   ],
   "source": [
    "titles = ['Urban Copenhagen street', 'Urban Copenhagen street', 'Urban Copenhagen street', 'Urban Copenhagen street']\n",
    "\n",
    "fig, ax = plt.subplots(4, 1, figsize = (6.3, 8))\n",
    "\n",
    "plot_MS_wInset(ax, MS_asphalt, MS_asphalt_keys, 'org', 0.5, 1, (0, -0.09, 0.99, 1), [0.4, 0.3], titles)\n",
    "\n",
    "fig.tight_layout()\n",
    "fig.savefig('ACSM/Trafic_MS_org.png', dpi = 600)\n",
    "plt.show()"
   ]
  },
  {
   "cell_type": "code",
   "execution_count": 46,
   "metadata": {},
   "outputs": [
    {
     "name": "stderr",
     "output_type": "stream",
     "text": [
      "C:\\Users\\B363580\\AppData\\Local\\Temp\\ipykernel_22040\\1378384865.py:8: UserWarning: This figure includes Axes that are not compatible with tight_layout, so results might be incorrect.\n",
      "  fig.tight_layout()\n"
     ]
    },
    {
     "ename": "AttributeError",
     "evalue": "'NoneType' object has no attribute '_get_renderer'",
     "output_type": "error",
     "traceback": [
      "\u001b[1;31m---------------------------------------------------------------------------\u001b[0m",
      "\u001b[1;31mAttributeError\u001b[0m                            Traceback (most recent call last)",
      "File \u001b[1;32mc:\\Users\\B363580\\AppData\\Local\\anaconda3\\Lib\\site-packages\\IPython\\core\\formatters.py:340\u001b[0m, in \u001b[0;36mBaseFormatter.__call__\u001b[1;34m(self, obj)\u001b[0m\n\u001b[0;32m    338\u001b[0m     \u001b[38;5;28;01mpass\u001b[39;00m\n\u001b[0;32m    339\u001b[0m \u001b[38;5;28;01melse\u001b[39;00m:\n\u001b[1;32m--> 340\u001b[0m     \u001b[38;5;28;01mreturn\u001b[39;00m printer(obj)\n\u001b[0;32m    341\u001b[0m \u001b[38;5;66;03m# Finally look for special method names\u001b[39;00m\n\u001b[0;32m    342\u001b[0m method \u001b[38;5;241m=\u001b[39m get_real_method(obj, \u001b[38;5;28mself\u001b[39m\u001b[38;5;241m.\u001b[39mprint_method)\n",
      "File \u001b[1;32mc:\\Users\\B363580\\AppData\\Local\\anaconda3\\Lib\\site-packages\\IPython\\core\\pylabtools.py:152\u001b[0m, in \u001b[0;36mprint_figure\u001b[1;34m(fig, fmt, bbox_inches, base64, **kwargs)\u001b[0m\n\u001b[0;32m    149\u001b[0m     \u001b[38;5;28;01mfrom\u001b[39;00m \u001b[38;5;21;01mmatplotlib\u001b[39;00m\u001b[38;5;21;01m.\u001b[39;00m\u001b[38;5;21;01mbackend_bases\u001b[39;00m \u001b[38;5;28;01mimport\u001b[39;00m FigureCanvasBase\n\u001b[0;32m    150\u001b[0m     FigureCanvasBase(fig)\n\u001b[1;32m--> 152\u001b[0m fig\u001b[38;5;241m.\u001b[39mcanvas\u001b[38;5;241m.\u001b[39mprint_figure(bytes_io, \u001b[38;5;241m*\u001b[39m\u001b[38;5;241m*\u001b[39mkw)\n\u001b[0;32m    153\u001b[0m data \u001b[38;5;241m=\u001b[39m bytes_io\u001b[38;5;241m.\u001b[39mgetvalue()\n\u001b[0;32m    154\u001b[0m \u001b[38;5;28;01mif\u001b[39;00m fmt \u001b[38;5;241m==\u001b[39m \u001b[38;5;124m'\u001b[39m\u001b[38;5;124msvg\u001b[39m\u001b[38;5;124m'\u001b[39m:\n",
      "File \u001b[1;32mc:\\Users\\B363580\\AppData\\Local\\anaconda3\\Lib\\site-packages\\matplotlib\\backend_bases.py:2353\u001b[0m, in \u001b[0;36mFigureCanvasBase.print_figure\u001b[1;34m(self, filename, dpi, facecolor, edgecolor, orientation, format, bbox_inches, pad_inches, bbox_extra_artists, backend, **kwargs)\u001b[0m\n\u001b[0;32m   2350\u001b[0m         bbox_inches \u001b[38;5;241m=\u001b[39m bbox_inches\u001b[38;5;241m.\u001b[39mpadded(pad_inches)\n\u001b[0;32m   2352\u001b[0m     \u001b[38;5;66;03m# call adjust_bbox to save only the given area\u001b[39;00m\n\u001b[1;32m-> 2353\u001b[0m     restore_bbox \u001b[38;5;241m=\u001b[39m _tight_bbox\u001b[38;5;241m.\u001b[39madjust_bbox(\n\u001b[0;32m   2354\u001b[0m         \u001b[38;5;28mself\u001b[39m\u001b[38;5;241m.\u001b[39mfigure, bbox_inches, \u001b[38;5;28mself\u001b[39m\u001b[38;5;241m.\u001b[39mfigure\u001b[38;5;241m.\u001b[39mcanvas\u001b[38;5;241m.\u001b[39mfixed_dpi)\n\u001b[0;32m   2356\u001b[0m     _bbox_inches_restore \u001b[38;5;241m=\u001b[39m (bbox_inches, restore_bbox)\n\u001b[0;32m   2357\u001b[0m \u001b[38;5;28;01melse\u001b[39;00m:\n",
      "File \u001b[1;32mc:\\Users\\B363580\\AppData\\Local\\anaconda3\\Lib\\site-packages\\matplotlib\\_tight_bbox.py:28\u001b[0m, in \u001b[0;36madjust_bbox\u001b[1;34m(fig, bbox_inches, fixed_dpi)\u001b[0m\n\u001b[0;32m     26\u001b[0m locator \u001b[38;5;241m=\u001b[39m ax\u001b[38;5;241m.\u001b[39mget_axes_locator()\n\u001b[0;32m     27\u001b[0m \u001b[38;5;28;01mif\u001b[39;00m locator \u001b[38;5;129;01mis\u001b[39;00m \u001b[38;5;129;01mnot\u001b[39;00m \u001b[38;5;28;01mNone\u001b[39;00m:\n\u001b[1;32m---> 28\u001b[0m     ax\u001b[38;5;241m.\u001b[39mapply_aspect(locator(ax, \u001b[38;5;28;01mNone\u001b[39;00m))\n\u001b[0;32m     29\u001b[0m locator_list\u001b[38;5;241m.\u001b[39mappend(locator)\n\u001b[0;32m     30\u001b[0m current_pos \u001b[38;5;241m=\u001b[39m ax\u001b[38;5;241m.\u001b[39mget_position(original\u001b[38;5;241m=\u001b[39m\u001b[38;5;28;01mFalse\u001b[39;00m)\u001b[38;5;241m.\u001b[39mfrozen()\n",
      "File \u001b[1;32mc:\\Users\\B363580\\AppData\\Local\\anaconda3\\Lib\\site-packages\\mpl_toolkits\\axes_grid1\\inset_locator.py:73\u001b[0m, in \u001b[0;36mAnchoredLocatorBase.__call__\u001b[1;34m(self, ax, renderer)\u001b[0m\n\u001b[0;32m     71\u001b[0m \u001b[38;5;28;01mdef\u001b[39;00m \u001b[38;5;21m__call__\u001b[39m(\u001b[38;5;28mself\u001b[39m, ax, renderer):\n\u001b[0;32m     72\u001b[0m     \u001b[38;5;28mself\u001b[39m\u001b[38;5;241m.\u001b[39maxes \u001b[38;5;241m=\u001b[39m ax\n\u001b[1;32m---> 73\u001b[0m     bbox \u001b[38;5;241m=\u001b[39m \u001b[38;5;28mself\u001b[39m\u001b[38;5;241m.\u001b[39mget_window_extent(renderer)\n\u001b[0;32m     74\u001b[0m     px, py \u001b[38;5;241m=\u001b[39m \u001b[38;5;28mself\u001b[39m\u001b[38;5;241m.\u001b[39mget_offset(bbox\u001b[38;5;241m.\u001b[39mwidth, bbox\u001b[38;5;241m.\u001b[39mheight, \u001b[38;5;241m0\u001b[39m, \u001b[38;5;241m0\u001b[39m, renderer)\n\u001b[0;32m     75\u001b[0m     bbox_canvas \u001b[38;5;241m=\u001b[39m Bbox\u001b[38;5;241m.\u001b[39mfrom_bounds(px, py, bbox\u001b[38;5;241m.\u001b[39mwidth, bbox\u001b[38;5;241m.\u001b[39mheight)\n",
      "File \u001b[1;32mc:\\Users\\B363580\\AppData\\Local\\anaconda3\\Lib\\site-packages\\matplotlib\\offsetbox.py:399\u001b[0m, in \u001b[0;36mOffsetBox.get_window_extent\u001b[1;34m(self, renderer)\u001b[0m\n\u001b[0;32m    396\u001b[0m \u001b[38;5;28;01mdef\u001b[39;00m \u001b[38;5;21mget_window_extent\u001b[39m(\u001b[38;5;28mself\u001b[39m, renderer\u001b[38;5;241m=\u001b[39m\u001b[38;5;28;01mNone\u001b[39;00m):\n\u001b[0;32m    397\u001b[0m     \u001b[38;5;66;03m# docstring inherited\u001b[39;00m\n\u001b[0;32m    398\u001b[0m     \u001b[38;5;28;01mif\u001b[39;00m renderer \u001b[38;5;129;01mis\u001b[39;00m \u001b[38;5;28;01mNone\u001b[39;00m:\n\u001b[1;32m--> 399\u001b[0m         renderer \u001b[38;5;241m=\u001b[39m \u001b[38;5;28mself\u001b[39m\u001b[38;5;241m.\u001b[39mfigure\u001b[38;5;241m.\u001b[39m_get_renderer()\n\u001b[0;32m    400\u001b[0m     bbox \u001b[38;5;241m=\u001b[39m \u001b[38;5;28mself\u001b[39m\u001b[38;5;241m.\u001b[39mget_bbox(renderer)\n\u001b[0;32m    401\u001b[0m     \u001b[38;5;28;01mtry\u001b[39;00m:  \u001b[38;5;66;03m# Some subclasses redefine get_offset to take no args.\u001b[39;00m\n",
      "\u001b[1;31mAttributeError\u001b[0m: 'NoneType' object has no attribute '_get_renderer'"
     ]
    },
    {
     "data": {
      "text/plain": [
       "<Figure size 630x800 with 8 Axes>"
      ]
     },
     "metadata": {},
     "output_type": "display_data"
    }
   ],
   "source": [
    "fig, axes = plt.subplots(4, 1, figsize = (6.3, 8))\n",
    "\n",
    "plot_MS_wInset(axes, MS_TinaTin, MS_TinaTin_keys[:4], 'org', 0.5, 1, (0, -0.09, 0.99, 1), [0.4, 0.3], MS_TinaTin_keys[:4])\n",
    "\n",
    "for ax in axes:\n",
    "    ax.set_title('Train maintenance facility')\n",
    "\n",
    "fig.tight_layout()\n",
    "fig.savefig('ACSM/PrepCenter1_MS_org.png', dpi = 600)\n",
    "plt.show()"
   ]
  }
 ],
 "metadata": {
  "kernelspec": {
   "display_name": "base",
   "language": "python",
   "name": "python3"
  },
  "language_info": {
   "codemirror_mode": {
    "name": "ipython",
    "version": 3
   },
   "file_extension": ".py",
   "mimetype": "text/x-python",
   "name": "python",
   "nbconvert_exporter": "python",
   "pygments_lexer": "ipython3",
   "version": "3.11.5"
  }
 },
 "nbformat": 4,
 "nbformat_minor": 2
}
