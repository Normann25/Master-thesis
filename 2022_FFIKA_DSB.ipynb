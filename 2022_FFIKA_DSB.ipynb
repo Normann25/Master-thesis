{
 "cells": [
  {
   "cell_type": "code",
   "execution_count": 1,
   "metadata": {},
   "outputs": [],
   "source": [
    "import numpy as np\n",
    "import matplotlib.pyplot as plt\n",
    "import pandas as pd\n",
    "import os\n",
    "import sys\n",
    "import scipy\n",
    "import matplotlib.dates as mdates\n",
    "from datetime import datetime\n",
    "sys.path.append('..')\n",
    "from read_data_functions import *\n",
    "from plot_functions import *"
   ]
  },
  {
   "cell_type": "code",
   "execution_count": 4,
   "metadata": {},
   "outputs": [
    {
     "data": {
      "text/html": [
       "<div>\n",
       "<style scoped>\n",
       "    .dataframe tbody tr th:only-of-type {\n",
       "        vertical-align: middle;\n",
       "    }\n",
       "\n",
       "    .dataframe tbody tr th {\n",
       "        vertical-align: top;\n",
       "    }\n",
       "\n",
       "    .dataframe thead th {\n",
       "        text-align: right;\n",
       "    }\n",
       "</style>\n",
       "<table border=\"1\" class=\"dataframe\">\n",
       "  <thead>\n",
       "    <tr style=\"text-align: right;\">\n",
       "      <th></th>\n",
       "      <th>Time</th>\n",
       "      <th>org_conc</th>\n",
       "    </tr>\n",
       "  </thead>\n",
       "  <tbody>\n",
       "    <tr>\n",
       "      <th>0</th>\n",
       "      <td>2022-03-07 17:14:35</td>\n",
       "      <td>3.395912</td>\n",
       "    </tr>\n",
       "    <tr>\n",
       "      <th>1</th>\n",
       "      <td>2022-03-07 17:15:15</td>\n",
       "      <td>3.349991</td>\n",
       "    </tr>\n",
       "    <tr>\n",
       "      <th>2</th>\n",
       "      <td>2022-03-07 17:15:55</td>\n",
       "      <td>2.959563</td>\n",
       "    </tr>\n",
       "    <tr>\n",
       "      <th>3</th>\n",
       "      <td>2022-03-07 17:16:35</td>\n",
       "      <td>3.661164</td>\n",
       "    </tr>\n",
       "    <tr>\n",
       "      <th>4</th>\n",
       "      <td>2022-03-07 17:17:15</td>\n",
       "      <td>3.584057</td>\n",
       "    </tr>\n",
       "    <tr>\n",
       "      <th>...</th>\n",
       "      <td>...</td>\n",
       "      <td>...</td>\n",
       "    </tr>\n",
       "    <tr>\n",
       "      <th>779</th>\n",
       "      <td>2022-03-08 01:56:51</td>\n",
       "      <td>2.638530</td>\n",
       "    </tr>\n",
       "    <tr>\n",
       "      <th>780</th>\n",
       "      <td>2022-03-08 01:57:31</td>\n",
       "      <td>2.648086</td>\n",
       "    </tr>\n",
       "    <tr>\n",
       "      <th>781</th>\n",
       "      <td>2022-03-08 01:58:11</td>\n",
       "      <td>2.600646</td>\n",
       "    </tr>\n",
       "    <tr>\n",
       "      <th>782</th>\n",
       "      <td>2022-03-08 01:58:51</td>\n",
       "      <td>2.879791</td>\n",
       "    </tr>\n",
       "    <tr>\n",
       "      <th>783</th>\n",
       "      <td>2022-03-08 01:59:31</td>\n",
       "      <td>2.885714</td>\n",
       "    </tr>\n",
       "  </tbody>\n",
       "</table>\n",
       "<p>784 rows × 2 columns</p>\n",
       "</div>"
      ],
      "text/plain": [
       "                   Time  org_conc\n",
       "0   2022-03-07 17:14:35  3.395912\n",
       "1   2022-03-07 17:15:15  3.349991\n",
       "2   2022-03-07 17:15:55  2.959563\n",
       "3   2022-03-07 17:16:35  3.661164\n",
       "4   2022-03-07 17:17:15  3.584057\n",
       "..                  ...       ...\n",
       "779 2022-03-08 01:56:51  2.638530\n",
       "780 2022-03-08 01:57:31  2.648086\n",
       "781 2022-03-08 01:58:11  2.600646\n",
       "782 2022-03-08 01:58:51  2.879791\n",
       "783 2022-03-08 01:59:31  2.885714\n",
       "\n",
       "[784 rows x 2 columns]"
      ]
     },
     "metadata": {},
     "output_type": "display_data"
    },
    {
     "data": {
      "text/html": [
       "<div>\n",
       "<style scoped>\n",
       "    .dataframe tbody tr th:only-of-type {\n",
       "        vertical-align: middle;\n",
       "    }\n",
       "\n",
       "    .dataframe tbody tr th {\n",
       "        vertical-align: top;\n",
       "    }\n",
       "\n",
       "    .dataframe thead th {\n",
       "        text-align: right;\n",
       "    }\n",
       "</style>\n",
       "<table border=\"1\" class=\"dataframe\">\n",
       "  <thead>\n",
       "    <tr style=\"text-align: right;\">\n",
       "      <th></th>\n",
       "      <th>Time</th>\n",
       "      <th>PAH total</th>\n",
       "    </tr>\n",
       "  </thead>\n",
       "  <tbody>\n",
       "    <tr>\n",
       "      <th>0</th>\n",
       "      <td>2022-03-09 02:58:27.015454</td>\n",
       "      <td>0.004227</td>\n",
       "    </tr>\n",
       "    <tr>\n",
       "      <th>1</th>\n",
       "      <td>2022-03-09 02:59:07.098718</td>\n",
       "      <td>0.009197</td>\n",
       "    </tr>\n",
       "    <tr>\n",
       "      <th>2</th>\n",
       "      <td>2022-03-09 02:59:47.181983</td>\n",
       "      <td>0.004777</td>\n",
       "    </tr>\n",
       "    <tr>\n",
       "      <th>3</th>\n",
       "      <td>2022-03-09 03:00:27.265246</td>\n",
       "      <td>0.013775</td>\n",
       "    </tr>\n",
       "    <tr>\n",
       "      <th>4</th>\n",
       "      <td>2022-03-09 03:01:07.348510</td>\n",
       "      <td>0.022699</td>\n",
       "    </tr>\n",
       "    <tr>\n",
       "      <th>...</th>\n",
       "      <td>...</td>\n",
       "      <td>...</td>\n",
       "    </tr>\n",
       "    <tr>\n",
       "      <th>1899</th>\n",
       "      <td>2022-03-10 00:16:59.771306</td>\n",
       "      <td>0.059001</td>\n",
       "    </tr>\n",
       "    <tr>\n",
       "      <th>1900</th>\n",
       "      <td>2022-03-10 00:17:39.854569</td>\n",
       "      <td>0.058177</td>\n",
       "    </tr>\n",
       "    <tr>\n",
       "      <th>1901</th>\n",
       "      <td>2022-03-10 00:18:19.937833</td>\n",
       "      <td>0.081629</td>\n",
       "    </tr>\n",
       "    <tr>\n",
       "      <th>1902</th>\n",
       "      <td>2022-03-10 00:19:00.021098</td>\n",
       "      <td>0.062636</td>\n",
       "    </tr>\n",
       "    <tr>\n",
       "      <th>1903</th>\n",
       "      <td>2022-03-10 00:19:40.104362</td>\n",
       "      <td>0.059962</td>\n",
       "    </tr>\n",
       "  </tbody>\n",
       "</table>\n",
       "<p>1904 rows × 2 columns</p>\n",
       "</div>"
      ],
      "text/plain": [
       "                           Time  PAH total\n",
       "0    2022-03-09 02:58:27.015454   0.004227\n",
       "1    2022-03-09 02:59:07.098718   0.009197\n",
       "2    2022-03-09 02:59:47.181983   0.004777\n",
       "3    2022-03-09 03:00:27.265246   0.013775\n",
       "4    2022-03-09 03:01:07.348510   0.022699\n",
       "...                         ...        ...\n",
       "1899 2022-03-10 00:16:59.771306   0.059001\n",
       "1900 2022-03-10 00:17:39.854569   0.058177\n",
       "1901 2022-03-10 00:18:19.937833   0.081629\n",
       "1902 2022-03-10 00:19:00.021098   0.062636\n",
       "1903 2022-03-10 00:19:40.104362   0.059962\n",
       "\n",
       "[1904 rows x 2 columns]"
      ]
     },
     "metadata": {},
     "output_type": "display_data"
    }
   ],
   "source": [
    "#Organic\n",
    "parent = '../../../'\n",
    "path = 'L:/PG-Nanoteknologi/PROJEKTER/2024 Laura og Nan/2022_FFIKA_DSB/'\n",
    "names = ['07-03-22', '08-03-22', '09-03-22', '10-03-22', '11-03-22', '12-03-22', '13-03-22', '14-03-22']\n",
    "\n",
    "data = read_txt_acsm(path, parent, names, '\\t', 0)\n",
    "display(data['07-03-22'])\n",
    "\n",
    "#PAH total \n",
    "\n",
    "parent_PAH = '../../../'\n",
    "path_PAH = 'L:/PG-Nanoteknologi/PROJEKTER/2024 Laura og Nan/TinaTin PAH total/'\n",
    "\n",
    "data_PAH = read_data(path_PAH, parent_PAH, 'Time', 0)\n",
    "\n",
    "display(data_PAH['09-03-22'])\n"
   ]
  },
  {
   "cell_type": "code",
   "execution_count": 6,
   "metadata": {},
   "outputs": [
    {
     "name": "stdout",
     "output_type": "stream",
     "text": [
      "0.69233936\n",
      "13.05475\n"
     ]
    }
   ],
   "source": [
    "print(min(data['07-03-22']['org_conc']))\n",
    "print(max(data['07-03-22']['org_conc']))"
   ]
  },
  {
   "cell_type": "code",
   "execution_count": 4,
   "metadata": {},
   "outputs": [
    {
     "ename": "TypeError",
     "evalue": "plot_Conc_ACSM() missing 3 required positional arguments: 'dict_keys', 'concentration', and 'ylabel'",
     "output_type": "error",
     "traceback": [
      "\u001b[1;31m---------------------------------------------------------------------------\u001b[0m",
      "\u001b[1;31mTypeError\u001b[0m                                 Traceback (most recent call last)",
      "Cell \u001b[1;32mIn[4], line 5\u001b[0m\n\u001b[0;32m      1\u001b[0m \u001b[38;5;66;03m#PAH total timeseries \u001b[39;00m\n\u001b[0;32m      3\u001b[0m fig, ax \u001b[38;5;241m=\u001b[39m plt\u001b[38;5;241m.\u001b[39msubplots(\u001b[38;5;28mlen\u001b[39m(names), \u001b[38;5;241m1\u001b[39m, figsize \u001b[38;5;241m=\u001b[39m (\u001b[38;5;241m6\u001b[39m, \u001b[38;5;241m12\u001b[39m))\n\u001b[1;32m----> 5\u001b[0m plot_Conc_ACSM(ax, data_PAH, names)\n\u001b[0;32m      7\u001b[0m fig\u001b[38;5;241m.\u001b[39mtight_layout()\n\u001b[0;32m      8\u001b[0m plt\u001b[38;5;241m.\u001b[39mshow()\n",
      "\u001b[1;31mTypeError\u001b[0m: plot_Conc_ACSM() missing 3 required positional arguments: 'dict_keys', 'concentration', and 'ylabel'"
     ]
    },
    {
     "data": {
      "image/png": "[encoded data removed]",
      "text/plain": [
       "<Figure size 600x1200 with 8 Axes>"
      ]
     },
     "metadata": {},
     "output_type": "display_data"
    }
   ],
   "source": [
    "#PAH total timeseries \n",
    "\n",
    "fig, ax = plt.subplots(len(names), 1, figsize = (6, 12))\n",
    "\n",
    "plot_Conc_ACSM(ax, data_PAH, names)\n",
    "\n",
    "fig.tight_layout()\n",
    "plt.show()"
   ]
  },
  {
   "cell_type": "code",
   "execution_count": 4,
   "metadata": {},
   "outputs": [
    {
     "name": "stdout",
     "output_type": "stream",
     "text": [
      "07-03-22   2.6404607530994895\n",
      "08-03-22   4.27591853531954\n",
      "09-03-22   2.1387824971056224\n",
      "10-03-22   2.7705406941793425\n",
      "11-03-22   2.980932734660352\n",
      "12-03-22   2.7653244743515977\n",
      "13-03-22   3.3128362471653543\n",
      "14-03-22   3.8707381885638052\n"
     ]
    }
   ],
   "source": [
    "#Mean concentrations for all day\n",
    "for key in data.keys():\n",
    "    Conc_mean = np.sum(data[key]['org_conc']) / len(data[key]['org_conc'])\n",
    "    print(key, ' ', Conc_mean)"
   ]
  },
  {
   "cell_type": "code",
   "execution_count": 5,
   "metadata": {},
   "outputs": [],
   "source": [
    "\n",
    "first = data['07-03-22']\n",
    "\n"
   ]
  }
 ],
 "metadata": {
  "kernelspec": {
   "display_name": "base",
   "language": "python",
   "name": "python3"
  },
  "language_info": {
   "codemirror_mode": {
    "name": "ipython",
    "version": 3
   },
   "file_extension": ".py",
   "mimetype": "text/x-python",
   "name": "python",
   "nbconvert_exporter": "python",
   "pygments_lexer": "ipython3",
   "version": "3.11.5"
  }
 },
 "nbformat": 4,
 "nbformat_minor": 2
}
