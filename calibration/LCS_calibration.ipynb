{
 "cells": [
  {
   "cell_type": "code",
   "execution_count": 1,
   "metadata": {},
   "outputs": [],
   "source": [
    "import numpy as np\n",
    "import matplotlib.pyplot as plt\n",
    "plt.style.use('../Style.mplstyle')\n",
    "import pandas as pd\n",
    "import os\n",
    "import sys\n",
    "import scipy\n",
    "import matplotlib.dates as mdates\n",
    "from datetime import datetime\n",
    "sys.path.append('..')\n",
    "from read_data_functions import *\n",
    "from plot_functions import *\n",
    "from calculations import *"
   ]
  },
  {
   "cell_type": "code",
   "execution_count": 2,
   "metadata": {},
   "outputs": [
    {
     "name": "stderr",
     "output_type": "stream",
     "text": [
      "c:\\Users\\B363580\\Documents\\GitHub\\Master-thesis\\calibration\\..\\read_data_functions.py:188: UserWarning: Parsing dates in %d-%m-%Y %H:%M format when dayfirst=False (the default) was specified. Pass `dayfirst=True` or specify a format to silence this warning.\n",
      "  df['Date'] = pd.to_datetime(df[time_label]).dt.date\n"
     ]
    }
   ],
   "source": [
    "parent_path = '../../../../'\n",
    "path = 'L:/PG-Nanoteknologi/PROJEKTER/2024 Laura og Nan/'\n",
    "\n",
    "# Screening\n",
    "Screening_LCS = read_LCS_data(path + 'pilot kbh hovedbanegaard and noerregade/rawdata/particle/LCS/', parent_path, 'timestamp', 0, False)\n",
    "\n",
    "# Brake wear data\n",
    "Lund_LCS = read_LCS_data(path + 'Lund/LCS_vores/', parent_path, 'timestamp', 0, True)\n",
    "Lund_OPS = read_OPS(path + 'Lund/', parent_path, 0)\n",
    "\n",
    "# Field data\n",
    "Field_LCS1 = read_LCS_data(path + 'cph central and nørreport measurements/Station 1/', parent_path, 'timestamp', 0, False)\n",
    "Field_OPS1 = read_OPS(path + 'cph central and nørreport measurements/Station 1/OPS/', parent_path, 0)\n",
    "Field_LCS2 = read_LCS_data(path + 'cph central and nørreport measurements/Station 2/', parent_path, 'timestamp', 0, False)\n",
    "Field_OPS2 = read_OPS(path + 'cph central and nørreport measurements/Station 2/OPS/', parent_path, -1)\n",
    "\n",
    "# Flip selected dataframes and change dataframe concentration keys\n",
    "old_keys_DSB = ['SPS30_PN0.5', 'SPS30_PN1', 'SPS30_PN2.5', 'SPS30_PN4', 'SPS30_PN10']\n",
    "old_keys_Lund_flip = ['PM5000S_2_PN0.3', 'PM5000S_2_PN0.5', 'PM5000S_2_PN1', 'PM5000S_2_PN2.5', 'PM5000S_2_PN5', 'PM5000S_2_PN10']\n",
    "old_keys_Lund = ['PN0.5, #/cm3', 'PN1, #/cm3', 'PN2.5, #/cm3', 'PN4, #/cm3', 'PN10, #/cm3']\n",
    "\n",
    "Screening_keys = ['2024-09-17 DG-0001A', '2024-09-19 DG-0001A', '2024-09-17 LCS0076', \n",
    "                  '2024-09-19 LCS0076', '2024-09-17 LCS0104', '2024-09-19 LCS0104']\n",
    "Lund_keys = ['2024-10-15 DG-0049', '2024-10-16 DG-0049', '2024-10-17 DG-0049', '2024-10-15 DG-0051', '2024-10-16 DG-0051', \n",
    "             '2024-10-17 DG-0051', '2024-10-15 LCS109', '2024-10-16 LCS109', '2024-10-17 LCS109', '2024-10-15 DG-0072', \n",
    "             '2024-10-16 DG-0072', '2024-10-17 DG-0072', '2024-10-15 DG-0077', '2024-10-16 DG-0077', '2024-10-17 DG-0077']\n",
    "Field1_keys = ['2024-12-09 DG-0158', '2024-12-10 DG-0158', '2024-12-11 DG-0158', '2024-12-12 DG-0158', \n",
    "               '2024-12-13 DG-0158', '2024-12-16 DG-0158', '2024-12-17 DG-0158']\n",
    "Field2_keys = ['2024-12-09 DG-0159', '2024-12-10 DG-0159', '2024-12-11 DG-0159', '2024-12-12 DG-0159', \n",
    "               '2024-12-13 DG-0159', '2024-12-16 DG-0159', '2024-12-17 DG-0159']\n",
    "\n",
    "Screening_flip = [False, False, False, False, False, False]\n",
    "Lund_flip = [True, True, True, True, True, True, True, True, True, False, False, False, False, False, False]\n",
    "Field_flip = [False, False, False, False, False, False, False]\n",
    "\n",
    "Screening_LCS = LCS_bins(Screening_LCS, Screening_keys, None, Screening_flip, old_keys_DSB)\n",
    "Lund_LCS = LCS_bins(Lund_LCS, Lund_keys, old_keys_Lund_flip, Lund_flip, old_keys_Lund)\n",
    "Field_LCS1 = LCS_bins(Field_LCS1, Field1_keys, None, Field_flip, old_keys_DSB)\n",
    "Field_LCS2 = LCS_bins(Field_LCS2, Field2_keys, None, Field_flip, old_keys_DSB)\n",
    "\n",
    "# Merge dictionaries with data from train stations\n",
    "DSB_LCS = merge_dicts(Screening_LCS, Field_LCS1, Field_LCS2)\n",
    "DSB_OPS = merge_dicts(Field_OPS1, Field_OPS2)"
   ]
  },
  {
   "cell_type": "code",
   "execution_count": 3,
   "metadata": {},
   "outputs": [],
   "source": [
    "DSB_keys_cal = ['2024-09-17 DG-0001A', '2024-09-17 LCS0076', '2024-09-17 LCS0104', \n",
    "                '2024-12-09 DG-0158', '2024-12-09 DG-0159',]\n",
    "Lund_keys_cal = ['2024-10-15 DG-0049', '2024-10-15 DG-0051', '2024-10-15 LCS109', \n",
    "                 '2024-10-15 DG-0072', '2024-10-15 DG-0077']"
   ]
  },
  {
   "cell_type": "code",
   "execution_count": 4,
   "metadata": {},
   "outputs": [
    {
     "name": "stdout",
     "output_type": "stream",
     "text": [
      "2024-10-15 DG-0049\n",
      "2024-10-15 11:00:00 2024-10-15 23:59:00\n",
      "776\n",
      "2024-10-15 DG-0051\n",
      "2024-10-15 11:04:00 2024-10-15 23:59:00\n",
      "772\n",
      "2024-10-15 LCS109\n",
      "2024-10-15 07:00:00 2024-10-15 19:59:00\n",
      "721\n",
      "2024-10-15 DG-0072\n",
      "2024-10-15 10:57:00 2024-10-15 16:59:00\n",
      "362\n",
      "2024-10-15 DG-0077\n",
      "2024-10-15 10:57:00 2024-10-15 16:59:00\n",
      "333\n"
     ]
    }
   ],
   "source": [
    "for key in Lund_keys_cal:\n",
    "    print(key)\n",
    "    print(Lund_LCS[key]['Time'][0], Lund_LCS[key]['Time'][len(Lund_LCS[key]['PN<2.5'])-1])\n",
    "    print(len(Lund_LCS[key]['PN<2.5']))\n"
   ]
  },
  {
   "cell_type": "code",
   "execution_count": 5,
   "metadata": {},
   "outputs": [
    {
     "name": "stdout",
     "output_type": "stream",
     "text": [
      "2024-09-17 LCS0076\n",
      "2024-09-17 00:00:00 2024-09-17 23:59:00\n",
      "1399\n",
      "2024-09-17 LCS0104\n",
      "2024-09-17 00:00:00 2024-09-17 23:59:00\n",
      "1385\n",
      "2024-12-09 DG-0158\n",
      "2024-12-09 00:00:00 2024-12-09 16:57:00\n",
      "986\n",
      "2024-12-09 DG-0159\n",
      "2024-12-09 09:12:00 2024-12-09 16:48:00\n",
      "351\n",
      "OPS1-CPH-d1\n",
      "2024-12-09 10:56:14 2024-12-09 16:43:14\n",
      "348\n",
      "OPS1-NP-d1\n",
      "2024-12-16 09:32:18 2024-12-16 15:45:18\n",
      "374\n",
      "OPS2-CPH-d1\n",
      "2024-12-09 10:53:19 2024-12-09 16:41:19\n",
      "349\n",
      "OPS2-NP-d1\n",
      "2024-12-16 09:48:06 2024-12-16 15:55:06\n",
      "368\n"
     ]
    }
   ],
   "source": [
    "for key in DSB_keys_cal[1:]:\n",
    "    print(key)\n",
    "    print(DSB_LCS[key]['Time'][0], DSB_LCS[key]['Time'][len(DSB_LCS[key]['PN<2.5'])-1])\n",
    "    print(len(DSB_LCS[key]['PN<2.5']))\n",
    "\n",
    "for key in DSB_OPS.keys():\n",
    "    if 'd1' in key:\n",
    "        print(key)\n",
    "        print(DSB_OPS[key]['Time'][0], DSB_OPS[key]['Time'][len(DSB_OPS[key]['PN2.5'])-1])\n",
    "        print(len(DSB_OPS[key]['PN2.5']))"
   ]
  },
  {
   "cell_type": "code",
   "execution_count": null,
   "metadata": {},
   "outputs": [],
   "source": [
    "def LCS_calibration_plot(plotz, figsize, sensor_dict, sensors, OPS_data, OPS_keys):\n",
    "    fig = plt.figure(figsize)\n",
    "    for i in range(plotz):\n",
    "        for j in range(plotz-1):\n",
    "            if (i>j):\n",
    "                ax = plt.subplot2grid((plotz-1, plotz-1), (i-1,j))\n",
    "                if j == 0:\n",
    "                    ax.set(ylabel = sensors[i-2].split(' ')[1])\n",
    "                if i == 6:\n",
    "                    ax.set(xlabel = sensors[j-1].split(' ')[1])\n",
    "\n",
    "                if j != i-1:\n",
    "                    pass # Linear fits LCS vs LCS\n",
    "                \n",
    "                if i-1 == 5 and j < 5:\n",
    "                    pass # Linear fits LCS vs OPS\n",
    "\n",
    "                if i-1 and j == 5:\n",
    "                    pass # OPS time series\n",
    "\n",
    "                else:\n",
    "                    pass # LCS time series\n",
    "\n",
    "    return fig"
   ]
  },
  {
   "cell_type": "code",
   "execution_count": 17,
   "metadata": {},
   "outputs": [
    {
     "name": "stdout",
     "output_type": "stream",
     "text": [
      "0 0\n",
      "1 0\n",
      "1 1\n",
      "2 0\n",
      "2 1\n",
      "2 2\n",
      "3 0\n",
      "3 1\n",
      "3 2\n",
      "3 3\n",
      "4 0\n",
      "4 1\n",
      "4 2\n",
      "4 3\n",
      "4 4\n",
      "5 0\n",
      "5 1\n",
      "5 2\n",
      "5 3\n",
      "5 4\n",
      "5 5\n"
     ]
    },
    {
     "data": {
      "image/png": "[encoded data removed]",
      "text/plain": [
       "<Figure size 640x480 with 21 Axes>"
      ]
     },
     "metadata": {},
     "output_type": "display_data"
    }
   ],
   "source": [
    "sensors = ['1', '2', '3', '4', '5', 'OPS']\n",
    "\n",
    "plotz = 7\n",
    "fig = plt.figure()\n",
    "for i in range(plotz):\n",
    "    for j in range(plotz-1):\n",
    "        if (i>j):\n",
    "            print(i-1, j)\n",
    "            ax = plt.subplot2grid((plotz-1, plotz-1), (i-1,j))\n",
    "            if j == 0:\n",
    "                ax.set(ylabel = sensors[i-1])\n",
    "            if i == 6:\n",
    "                ax.set(xlabel = sensors[j])\n",
    "            \n",
    "            if i-1 and j == 5:\n",
    "                ax.scatter([0, 1, 2], [0, 1, 2])"
   ]
  }
 ],
 "metadata": {
  "kernelspec": {
   "display_name": "base",
   "language": "python",
   "name": "python3"
  },
  "language_info": {
   "codemirror_mode": {
    "name": "ipython",
    "version": 3
   },
   "file_extension": ".py",
   "mimetype": "text/x-python",
   "name": "python",
   "nbconvert_exporter": "python",
   "pygments_lexer": "ipython3",
   "version": "3.11.5"
  }
 },
 "nbformat": 4,
 "nbformat_minor": 2
}
