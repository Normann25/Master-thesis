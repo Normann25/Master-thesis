{
 "cells": [
  {
   "cell_type": "code",
   "execution_count": 1,
   "metadata": {},
   "outputs": [],
   "source": [
    "import numpy as np\n",
    "import matplotlib.pyplot as plt\n",
    "import pandas as pd\n",
    "import os\n",
    "import sys\n",
    "from matplotlib.ticker import FuncFormatter\n",
    "import time\n",
    "from datetime import datetime\n",
    "import matplotlib.dates as mdates\n",
    "import linecache\n",
    "from functions import *"
   ]
  },
  {
   "cell_type": "code",
   "execution_count": 3,
   "metadata": {},
   "outputs": [],
   "source": [
    "parent_path = '../../../'\n",
    "discmini_path = 'L:/PG-Nanoteknologi/PROJEKTER/2024 Laura og Nan/pilot kbh hovedbanegaard and noerregade/rawdata/particle/discmini/'\n",
    "discmini_names = ['dm1_20240917_1008', 'dm1_20240917_1528', 'dm1_20240919_1140', 'dm4_20240917_1007', 'dm4_20240917_1103', \n",
    "                  'dm5_20240917_1009', 'dm5_20240917_1105', 'dm5_20240919_1142']\n",
    "ma200_path = 'L:/PG-Nanoteknologi/PROJEKTER/2024 Laura og Nan/pilot kbh hovedbanegaard and noerregade/rawdata/particle/ma200/'\n",
    "\n",
    "discmini = read_discmini(discmini_path, parent_path, discmini_names, '\\t')\n",
    "ma200 = read_csv_BC(ma200_path, parent_path)"
   ]
  }
 ],
 "metadata": {
  "kernelspec": {
   "display_name": "base",
   "language": "python",
   "name": "python3"
  },
  "language_info": {
   "codemirror_mode": {
    "name": "ipython",
    "version": 3
   },
   "file_extension": ".py",
   "mimetype": "text/x-python",
   "name": "python",
   "nbconvert_exporter": "python",
   "pygments_lexer": "ipython3",
   "version": "3.11.5"
  }
 },
 "nbformat": 4,
 "nbformat_minor": 2
}
