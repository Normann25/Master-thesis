{
 "cells": [
  {
   "cell_type": "code",
   "execution_count": 1,
   "metadata": {},
   "outputs": [],
   "source": [
    "import numpy as np\n",
    "import matplotlib.pyplot as plt\n",
    "import pandas as pd\n",
    "import os\n",
    "import sys\n",
    "from matplotlib.ticker import FuncFormatter\n",
    "import time\n",
    "from datetime import datetime\n",
    "import matplotlib.dates as mdates\n",
    "import linecache\n",
    "from iminuit import Minuit \n",
    "sys.path.append('..')\n",
    "from read_data_functions import *\n",
    "from plot_functions import *\n",
    "from Laura import *"
   ]
  },
  {
   "cell_type": "code",
   "execution_count": 2,
   "metadata": {},
   "outputs": [
    {
     "name": "stderr",
     "output_type": "stream",
     "text": [
      "c:\\Users\\45404\\Documents\\NFA\\Master Thesis\\GitHub\\Master-thesis\\Laura.py:29: UserWarning: Could not infer format, so each element will be parsed individually, falling back to `dateutil`. To ensure parsing is consistent and as-expected, please specify a format.\n",
      "  df['Time'] = pd.to_datetime(df['Time'])\n",
      "c:\\Users\\45404\\Documents\\NFA\\Master Thesis\\GitHub\\Master-thesis\\Laura.py:29: UserWarning: Could not infer format, so each element will be parsed individually, falling back to `dateutil`. To ensure parsing is consistent and as-expected, please specify a format.\n",
      "  df['Time'] = pd.to_datetime(df['Time'])\n",
      "c:\\Users\\45404\\Documents\\NFA\\Master Thesis\\GitHub\\Master-thesis\\Laura.py:29: UserWarning: Could not infer format, so each element will be parsed individually, falling back to `dateutil`. To ensure parsing is consistent and as-expected, please specify a format.\n",
      "  df['Time'] = pd.to_datetime(df['Time'])\n",
      "c:\\Users\\45404\\Documents\\NFA\\Master Thesis\\GitHub\\Master-thesis\\Laura.py:29: UserWarning: Could not infer format, so each element will be parsed individually, falling back to `dateutil`. To ensure parsing is consistent and as-expected, please specify a format.\n",
      "  df['Time'] = pd.to_datetime(df['Time'])\n",
      "c:\\Users\\45404\\Documents\\NFA\\Master Thesis\\GitHub\\Master-thesis\\Laura.py:29: UserWarning: Could not infer format, so each element will be parsed individually, falling back to `dateutil`. To ensure parsing is consistent and as-expected, please specify a format.\n",
      "  df['Time'] = pd.to_datetime(df['Time'])\n",
      "c:\\Users\\45404\\Documents\\NFA\\Master Thesis\\GitHub\\Master-thesis\\Laura.py:29: UserWarning: Could not infer format, so each element will be parsed individually, falling back to `dateutil`. To ensure parsing is consistent and as-expected, please specify a format.\n",
      "  df['Time'] = pd.to_datetime(df['Time'])\n",
      "c:\\Users\\45404\\Documents\\NFA\\Master Thesis\\GitHub\\Master-thesis\\Laura.py:29: UserWarning: Could not infer format, so each element will be parsed individually, falling back to `dateutil`. To ensure parsing is consistent and as-expected, please specify a format.\n",
      "  df['Time'] = pd.to_datetime(df['Time'])\n",
      "c:\\Users\\45404\\Documents\\NFA\\Master Thesis\\GitHub\\Master-thesis\\Laura.py:29: UserWarning: Could not infer format, so each element will be parsed individually, falling back to `dateutil`. To ensure parsing is consistent and as-expected, please specify a format.\n",
      "  df['Time'] = pd.to_datetime(df['Time'])\n",
      "c:\\Users\\45404\\Documents\\NFA\\Master Thesis\\GitHub\\Master-thesis\\Laura.py:29: UserWarning: Could not infer format, so each element will be parsed individually, falling back to `dateutil`. To ensure parsing is consistent and as-expected, please specify a format.\n",
      "  df['Time'] = pd.to_datetime(df['Time'])\n",
      "c:\\Users\\45404\\Documents\\NFA\\Master Thesis\\GitHub\\Master-thesis\\Laura.py:29: UserWarning: Could not infer format, so each element will be parsed individually, falling back to `dateutil`. To ensure parsing is consistent and as-expected, please specify a format.\n",
      "  df['Time'] = pd.to_datetime(df['Time'])\n",
      "c:\\Users\\45404\\Documents\\NFA\\Master Thesis\\GitHub\\Master-thesis\\Laura.py:29: UserWarning: Could not infer format, so each element will be parsed individually, falling back to `dateutil`. To ensure parsing is consistent and as-expected, please specify a format.\n",
      "  df['Time'] = pd.to_datetime(df['Time'])\n"
     ]
    }
   ],
   "source": [
    "parent = '../../Lund/CPC' \n",
    "names = ['test1_CPC', 'test2_CPC', 'test3_CPC', 'test4_CPC', 'test5_CPC', 'test6_CPC', 'test7_CPC', 'test8_CPC', 'test9_CPC', 'test10_CPC', 'test11_CPC']\n",
    "\n",
    "data_CPC = read_CPC(parent) "
   ]
  }
 ],
 "metadata": {
  "kernelspec": {
   "display_name": "Python 3",
   "language": "python",
   "name": "python3"
  },
  "language_info": {
   "codemirror_mode": {
    "name": "ipython",
    "version": 3
   },
   "file_extension": ".py",
   "mimetype": "text/x-python",
   "name": "python",
   "nbconvert_exporter": "python",
   "pygments_lexer": "ipython3",
   "version": "3.12.2"
  }
 },
 "nbformat": 4,
 "nbformat_minor": 2
}
