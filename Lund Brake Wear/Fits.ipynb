{
 "cells": [
  {
   "cell_type": "code",
   "execution_count": null,
   "metadata": {},
   "outputs": [],
   "source": [
    "import numpy as np\n",
    "import matplotlib.pyplot as plt\n",
    "plt.style.use('../Style.mplstyle')\n",
    "import pandas as pd\n",
    "import os\n",
    "import sys\n",
    "import scipy\n",
    "from iminuit import Minuit\n",
    "from scipy import stats\n",
    "sys.path.append('..')\n",
    "from read_data_functions import *\n",
    "from plot_functions import *\n",
    "from calculations import *"
   ]
  },
  {
   "cell_type": "code",
   "execution_count": 8,
   "metadata": {},
   "outputs": [
    {
     "name": "stdout",
     "output_type": "stream",
     "text": [
      "Failed to read file with separation: \t\n",
      "Failed to read file with separation: ,\n",
      "Failed to read file with separation: ,\n"
     ]
    }
   ],
   "source": [
    "parent_path = '../../../../'\n",
    "path = 'L:/PG-Nanoteknologi/PROJEKTER/2024 Laura og Nan/Lund/'\n",
    "\n",
    "SMPS = read_SMPS(path, parent_path, [0, 0])\n",
    "OPS_APS = read_OPS(path, parent_path, 0)\n",
    "\n",
    "NS_dict_keys = ['2024-10-15_NanoScan', '2024-10-16_NanoScan', '2024-10-17_NanoScan']\n",
    "NS_bins = SMPS['2024-10-21_NanoScan'].keys()[3:16].to_list()\n",
    "\n",
    "NS_bg_mean, NS_bg_std, NS_bg_error = bin_mean(['2024/10/21 11:45:00', '2024/10/21 14:10:00'], \n",
    "                                              SMPS['2024-10-21_NanoScan'], NS_bins, 'Time', 0.1)\n",
    "\n",
    "for key in NS_dict_keys:\n",
    "    df = SMPS[key]\n",
    "    for i, bin in enumerate(NS_bins):\n",
    "        df[bin] = df[bin] - NS_bg_mean[i]\n",
    "\n",
    "    SMPS[key] = df\n",
    "\n",
    "dict_keys = ['Exp1', 'Exp2', 'Exp3', 'Exp4']\n",
    "OPS_mid_point = [0.337, 0.419, 0.522, 0.650, 0.809, 1.007, 1.254, 1.562, 1.944, 2.421, 3.014, 3.752, 4.672, 5.816, 7.241, 9.015]\n",
    "OPS_bins = OPS_APS['Exp1'].keys()[1:17].to_list()\n",
    "\n",
    "for dict_key in dict_keys:\n",
    "    for old_key, new_key in zip(OPS_bins, OPS_mid_point):\n",
    "        OPS_APS[dict_key] = OPS_APS[dict_key].rename(columns = {old_key: new_key})\n",
    "\n",
    "OPS_cut_point = [0.300, 0.374, 0.465, 0.579, 0.721, 0.897, 1.117, 1.391, 1.732, 2.156, 2.685, 3.343, 4.162, 5.182, 6.451, 8.031, 10.000]\n",
    "\n",
    "NS_OPS_cut = [0.010, 0.0132, 0.0179, 0.0234, 0.032, 0.0416, 0.057, 0.0739, 0.1015, 0.1314, 0.1805, 0.2337, \n",
    "              0.300, 0.374, 0.465, 0.579, 0.721, 0.897, 1.117, 1.391, 1.732, 2.156, 2.685, 3.343, 4.162, 5.182, 6.451, 8.031, 10.000]\n",
    "\n",
    "time_wBG = [['2024-10-16 09:50:00', '2024-10-16 12:50:00'],\n",
    "            ['2024-10-16 14:30:00', '2024-10-16 16:30:00'],\n",
    "            ['2024-10-17 09:30:00', '2024-10-17 12:10:00'],\n",
    "            ['2024-10-17 14:10:00', '2024-10-17 15:30:00']]\n",
    "\n",
    "timestamps_exp = [['2024-10-16 10:45:00', '2024-10-16 12:26:00'],\n",
    "                  ['2024-10-16 15:00:00', '2024-10-16 15:34:00'],\n",
    "                  ['2024-10-17 10:20:00', '2024-10-17 12:00:00'],\n",
    "                  ['2024-10-17 14:30:00', '2024-10-17 15:00:00']]\n",
    "\n",
    "NanoScan_dict_keys = ['2024-10-16_NanoScan', '2024-10-16_NanoScan', '2024-10-17_NanoScan', '2024-10-17_NanoScan']\n",
    "NS_OPS_number, NS_OPS_mass, NS_OPS_keys, NS_OPS_bin_mean = merge_data(SMPS, NanoScan_dict_keys, [3, 15], OPS_APS, dict_keys, [1, 17], time_wBG, ['Time', 'Time'], False, True)"
   ]
  },
  {
   "cell_type": "code",
   "execution_count": null,
   "metadata": {},
   "outputs": [],
   "source": [
    "# Calculate bin means"
   ]
  },
  {
   "cell_type": "code",
   "execution_count": null,
   "metadata": {},
   "outputs": [],
   "source": [
    "def gauss(x, p, mu, sigma):\n",
    "    return p*stats.norm.pdf(x, mu, sigma)\n",
    "\n",
    "def d_gauss(x, p1, p2, mu1, sigma1, mu2, sigma2):\n",
    "    return p1*stats.norm.pdf(x, mu1, sigma1) + p2*stats.norm.pdf(x, mu2, sigma2)\n",
    "\n",
    "def t_gauss(x, p1, p2, p3, mu1, sigma1, mu2, sigma2, mu3, sigma3):\n",
    "    return p1*stats.norm.pdf(x, mu1, sigma1) + p2*stats.norm.pdf(x, mu2, sigma2) + p3*stats.norm.pdf(x, mu3, sigma3)\n",
    "\n",
    "def dgauss_fit(x, y, ey, guess):\n",
    "\n",
    "    Npoints = len(y)\n",
    "    # Make sure data are arrays\n",
    "    x, y, ey = np.array(x), np.array(y), np.array(ey)\n",
    "\n",
    "    # Define Chi2 calculation\n",
    "    def chi2(p1, p2, mu1, sigma1, mu2, sigma2) :\n",
    "        y_fit = d_gauss(x, p1, p2, mu1, sigma1, mu2, sigma2)\n",
    "        chi2 = np.sum(((y - y_fit) / ey)**2)\n",
    "        return chi2\n",
    "    chi2.errordef = 1.0\n",
    "\n",
    "    # Here we let Minuit know, what to minimise, how, and with what starting parameters\n",
    "    minuit = Minuit(chi2, p1 = guess[0], p2 = guess[1], mu1 = guess[2], sigma1 = guess[3], mu2 = guess[4], sigma2 = guess[5])\n",
    "\n",
    "    # Perform the actual fit\n",
    "    minuit.migrad();\n",
    "\n",
    "    # # Extract the fitting parameters and their errors\n",
    "    # p1_fit, ep1_fit = minuit.values['p1'], minuit.errors['p1']\n",
    "    # p2_fit, ep2_fit = minuit.values['p2'], minuit.errors['p2']\n",
    "    # mu1_fit, emu1_fit = minuit.values['mu1'], minuit.errors['mu1']\n",
    "    # sigma1_fit, esigme1_fit = minuit.values['sigma1'], minuit.errors['sigma1']\n",
    "    # mu2_fit, emu2_fit = minuit.values['mu2'], minuit.errors['mu2']\n",
    "    # sigma2_fit, esigme2_fit = minuit.values['sigma2'], minuit.errors['sigma2']\n",
    "\n",
    "    Nvar = len(guess)           # Number of variables\n",
    "    Ndof_fit = Npoints - Nvar   # Number of degrees of freedom\n",
    "\n",
    "    # Get the minimal value obtained for the quantity to be minimised (here the Chi2)\n",
    "    Chi2_fit = minuit.fval                          # The chi2 value\n",
    "    Prob_fit = stats.chi2.sf(Chi2_fit, Ndof_fit)    # The chi2 probability given N degrees of freedom\n",
    "\n",
    "    return minuit.values, minuit.errors, Ndof_fit, Chi2_fit, Prob_fit\n",
    "\n",
    "def plot_fitted_mean(ax, timestamps, df, df_keys, timelabel, inst_error, bin_means, bin_edges, guess, gauss_type):\n",
    "\n",
    "    mean_number, error_number, mean_mass, error_mass, ax, ax2 = plot_bin_mean()\n",
    "\n",
    "    if gauss_type == 'double':\n",
    "        fit_params, fit_errors = dgauss_fit(bin_means, mean_number, error_number, guess)\n",
    "    return"
   ]
  },
  {
   "cell_type": "code",
   "execution_count": null,
   "metadata": {},
   "outputs": [],
   "source": [
    "# if gauss_type == 'triple':\n",
    "#         def fit_function(x, p1, p2, p3, mu1, sigma1, mu2, sigma2, mu3, sigma3):\n",
    "#             return (p1)*stats.norm.pdf(x, mu1, sigma1) + p2*stats.norm.pdf(x, mu2, sigma2) + p3*stats.norm.pdf(x, mu3, sigma3)\n",
    "    \n",
    "#         # Define Chi2 calculation\n",
    "#         def chi2(p1, p2, p3, mu1, sigma1, mu2, sigma2, mu3, sigma3) :\n",
    "#             y_fit = fit_function(x, p1, p2, p3, mu1, sigma1, mu2, sigma2, mu3, sigma3)\n",
    "#             chi2 = np.sum(((y - y_fit) / ey)**2)\n",
    "#             return chi2\n",
    "#         chi2.errordef = 1.0\n",
    "\n",
    "#         # Here we let Minuit know, what to minimise, how, and with what starting parameters:   \n",
    "#         minuit = Minuit(chi2, p1 = guess[0], p2 = guess[1], p3 = guess[2], mu1 = guess[3], sigma1 = guess[4], mu2 = guess[5], sigma2 = guess[6], mu3 = guess[7], sigma3 = guess[8])"
   ]
  }
 ],
 "metadata": {
  "kernelspec": {
   "display_name": "base",
   "language": "python",
   "name": "python3"
  },
  "language_info": {
   "codemirror_mode": {
    "name": "ipython",
    "version": 3
   },
   "file_extension": ".py",
   "mimetype": "text/x-python",
   "name": "python",
   "nbconvert_exporter": "python",
   "pygments_lexer": "ipython3",
   "version": "3.11.5"
  }
 },
 "nbformat": 4,
 "nbformat_minor": 2
}
